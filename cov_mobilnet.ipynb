{
  "nbformat": 4,
  "nbformat_minor": 0,
  "metadata": {
    "colab": {
      "name": "m_oraganal_data.ipynb",
      "provenance": [],
      "collapsed_sections": [],
      "mount_file_id": "https://github.com/ayman86/playground/blob/master/m_oraganal_data.ipynb",
      "authorship_tag": "ABX9TyMBv8Bljt2M0W/47wuWH5bu",
      "include_colab_link": true
    },
    "kernelspec": {
      "name": "python3",
      "display_name": "Python 3"
    },
    "language_info": {
      "name": "python"
    },
    "accelerator": "GPU"
  },
  "cells": [
    {
      "cell_type": "markdown",
      "metadata": {
        "id": "view-in-github",
        "colab_type": "text"
      },
      "source": [
        "<a href=\"https://colab.research.google.com/github/ayman86/playground/blob/patch-1/cov_mobilnet.ipynb\" target=\"_parent\"><img src=\"https://colab.research.google.com/assets/colab-badge.svg\" alt=\"Open In Colab\"/></a>"
      ]
    },
    {
      "cell_type": "code",
      "source": [
        "#!wget https://figshare.com/ndownloader/files/3381290\n",
        "#!unzip 3381290\n"
      ],
      "metadata": {
        "id": "u68n8xgTZynS"
      },
      "execution_count": null,
      "outputs": []
    },
    {
      "cell_type": "code",
      "source": [
        "import keras\n",
        "from keras.preprocessing.image import ImageDataGenerator\n",
        "from keras.models import Sequential\n",
        "from keras.layers import Dense\n",
        "from keras.applications.mobilenet_v2 import MobileNetV2\n",
        "from keras.applications.mobilenet_v2 import preprocess_input\n",
        "from keras.utils.traceback_utils import include_frame\n"
      ],
      "metadata": {
        "id": "l9HxHrUPkw0P"
      },
      "execution_count": 24,
      "outputs": []
    },
    {
      "cell_type": "code",
      "source": [
        "num_classes=3\n",
        "image_size=227\n"
      ],
      "metadata": {
        "id": "mehYTugHlvOQ"
      },
      "execution_count": 25,
      "outputs": []
    },
    {
      "cell_type": "code",
      "source": [
        "data_genarater=ImageDataGenerator(preprocessing_function=preprocess_input)"
      ],
      "metadata": {
        "id": "1Is4ovXymMXr"
      },
      "execution_count": 26,
      "outputs": []
    },
    {
      "cell_type": "code",
      "source": [
        "train  = '/content/drive/MyDrive/ddvdata/train'\n",
        "test  = '/content/drive/MyDrive/ddvdata/test'\n",
        "#Therd step resize\n",
        "trdata = ImageDataGenerator(rescale= 1./255,\n",
        "                            shear_range=0.2,\n",
        "                            zoom_range=0.2,\n",
        "                            horizontal_flip= True,\n",
        ")\n",
        "traindata = trdata.flow_from_directory(directory=train,target_size=(image_size,image_size))\n",
        "\n",
        "tsdata = ImageDataGenerator(rescale= 1./255,\n",
        "                            shear_range=0.2,\n",
        "                            zoom_range=0.2,\n",
        "                            horizontal_flip= True,\n",
        ")\n",
        "testdata = tsdata.flow_from_directory(directory=test,target_size=(227,227))\n",
        "\n",
        "input_shape = (227,227,3)"
      ],
      "metadata": {
        "colab": {
          "base_uri": "https://localhost:8080/"
        },
        "id": "jeyh82p8mdW4",
        "outputId": "cc1c3dce-f6d0-47b5-c50c-225eaf572323"
      },
      "execution_count": 27,
      "outputs": [
        {
          "output_type": "stream",
          "name": "stdout",
          "text": [
            "Found 10759 images belonging to 3 classes.\n",
            "Found 2688 images belonging to 3 classes.\n"
          ]
        }
      ]
    },
    {
      "cell_type": "code",
      "source": [
        "model=Sequential()\n",
        "model.add(MobileNetV2(include_top=False,pooling='avg',weights='imagenet'))\n"
      ],
      "metadata": {
        "id": "rer5Bm-Un6qI",
        "colab": {
          "base_uri": "https://localhost:8080/"
        },
        "outputId": "020fe6da-2b3d-4a3b-cb02-cd63297efa93"
      },
      "execution_count": 28,
      "outputs": [
        {
          "output_type": "stream",
          "name": "stdout",
          "text": [
            "WARNING:tensorflow:`input_shape` is undefined or non-square, or `rows` is not in [96, 128, 160, 192, 224]. Weights for input shape (224, 224) will be loaded as the default.\n",
            "Downloading data from https://storage.googleapis.com/tensorflow/keras-applications/mobilenet_v2/mobilenet_v2_weights_tf_dim_ordering_tf_kernels_1.0_224_no_top.h5\n",
            "9412608/9406464 [==============================] - 0s 0us/step\n",
            "9420800/9406464 [==============================] - 0s 0us/step\n"
          ]
        }
      ]
    },
    {
      "cell_type": "code",
      "source": [
        "model.add(Dense(num_classes,activation='softmax'))"
      ],
      "metadata": {
        "id": "CLT_bdHPpJU6"
      },
      "execution_count": 29,
      "outputs": []
    },
    {
      "cell_type": "code",
      "source": [
        "model.layers[0].layers"
      ],
      "metadata": {
        "colab": {
          "base_uri": "https://localhost:8080/"
        },
        "id": "3ZrfpiwKpxao",
        "outputId": "b2674062-c65c-4539-efe2-3de4f3858996"
      },
      "execution_count": 30,
      "outputs": [
        {
          "output_type": "execute_result",
          "data": {
            "text/plain": [
              "[<keras.engine.input_layer.InputLayer at 0x7f3528bcc9d0>,\n",
              " <keras.layers.convolutional.Conv2D at 0x7f357ff29b50>,\n",
              " <keras.layers.normalization.batch_normalization.BatchNormalization at 0x7f3528b5cf90>,\n",
              " <keras.layers.advanced_activations.ReLU at 0x7f3528bede50>,\n",
              " <keras.layers.convolutional.DepthwiseConv2D at 0x7f3528cdfc10>,\n",
              " <keras.layers.normalization.batch_normalization.BatchNormalization at 0x7f3528bb5f90>,\n",
              " <keras.layers.advanced_activations.ReLU at 0x7f3528be1050>,\n",
              " <keras.layers.convolutional.Conv2D at 0x7f357ff26d50>,\n",
              " <keras.layers.normalization.batch_normalization.BatchNormalization at 0x7f357fe07690>,\n",
              " <keras.layers.convolutional.Conv2D at 0x7f357fe05050>,\n",
              " <keras.layers.normalization.batch_normalization.BatchNormalization at 0x7f357fe14150>,\n",
              " <keras.layers.advanced_activations.ReLU at 0x7f357fe1d310>,\n",
              " <keras.layers.convolutional.ZeroPadding2D at 0x7f357fe173d0>,\n",
              " <keras.layers.convolutional.DepthwiseConv2D at 0x7f357fe20e50>,\n",
              " <keras.layers.normalization.batch_normalization.BatchNormalization at 0x7f357fe2f4d0>,\n",
              " <keras.layers.advanced_activations.ReLU at 0x7f357fe3b590>,\n",
              " <keras.layers.convolutional.Conv2D at 0x7f357fe3db10>,\n",
              " <keras.layers.normalization.batch_normalization.BatchNormalization at 0x7f357fe418d0>,\n",
              " <keras.layers.convolutional.Conv2D at 0x7f357fe48a90>,\n",
              " <keras.layers.normalization.batch_normalization.BatchNormalization at 0x7f357fe41d50>,\n",
              " <keras.layers.advanced_activations.ReLU at 0x7f357fe14b90>,\n",
              " <keras.layers.convolutional.DepthwiseConv2D at 0x7f357fe25dd0>,\n",
              " <keras.layers.normalization.batch_normalization.BatchNormalization at 0x7f3528b52750>,\n",
              " <keras.layers.advanced_activations.ReLU at 0x7f357fe41b50>,\n",
              " <keras.layers.convolutional.Conv2D at 0x7f357ed7e090>,\n",
              " <keras.layers.normalization.batch_normalization.BatchNormalization at 0x7f357fe4b510>,\n",
              " <keras.layers.merge.Add at 0x7f357fe29650>,\n",
              " <keras.layers.convolutional.Conv2D at 0x7f357fe20b10>,\n",
              " <keras.layers.normalization.batch_normalization.BatchNormalization at 0x7f357fe60150>,\n",
              " <keras.layers.advanced_activations.ReLU at 0x7f357fe5cdd0>,\n",
              " <keras.layers.convolutional.ZeroPadding2D at 0x7f357fe58610>,\n",
              " <keras.layers.convolutional.DepthwiseConv2D at 0x7f357fe69c10>,\n",
              " <keras.layers.normalization.batch_normalization.BatchNormalization at 0x7f357fe71f90>,\n",
              " <keras.layers.advanced_activations.ReLU at 0x7f357fe64e10>,\n",
              " <keras.layers.convolutional.Conv2D at 0x7f357fe77650>,\n",
              " <keras.layers.normalization.batch_normalization.BatchNormalization at 0x7f357fdc00d0>,\n",
              " <keras.layers.convolutional.Conv2D at 0x7f357fe7d090>,\n",
              " <keras.layers.normalization.batch_normalization.BatchNormalization at 0x7f357fdc8610>,\n",
              " <keras.layers.advanced_activations.ReLU at 0x7f357fdd5290>,\n",
              " <keras.layers.convolutional.DepthwiseConv2D at 0x7f357fdd5990>,\n",
              " <keras.layers.normalization.batch_normalization.BatchNormalization at 0x7f357fddc9d0>,\n",
              " <keras.layers.advanced_activations.ReLU at 0x7f357fdde350>,\n",
              " <keras.layers.convolutional.Conv2D at 0x7f357fdebf10>,\n",
              " <keras.layers.normalization.batch_normalization.BatchNormalization at 0x7f357fdf0650>,\n",
              " <keras.layers.merge.Add at 0x7f357fdf2c90>,\n",
              " <keras.layers.convolutional.Conv2D at 0x7f357fdf9450>,\n",
              " <keras.layers.normalization.batch_normalization.BatchNormalization at 0x7f357fd82490>,\n",
              " <keras.layers.advanced_activations.ReLU at 0x7f357fd89cd0>,\n",
              " <keras.layers.convolutional.DepthwiseConv2D at 0x7f357fd8cb50>,\n",
              " <keras.layers.normalization.batch_normalization.BatchNormalization at 0x7f357fd96a10>,\n",
              " <keras.layers.advanced_activations.ReLU at 0x7f357fd9cbd0>,\n",
              " <keras.layers.convolutional.Conv2D at 0x7f357fda5f50>,\n",
              " <keras.layers.normalization.batch_normalization.BatchNormalization at 0x7f357fd90c50>,\n",
              " <keras.layers.merge.Add at 0x7f357fdb0d10>,\n",
              " <keras.layers.convolutional.Conv2D at 0x7f357fdb3890>,\n",
              " <keras.layers.normalization.batch_normalization.BatchNormalization at 0x7f357fdbe750>,\n",
              " <keras.layers.advanced_activations.ReLU at 0x7f357fd43d90>,\n",
              " <keras.layers.convolutional.ZeroPadding2D at 0x7f357fd4b810>,\n",
              " <keras.layers.convolutional.DepthwiseConv2D at 0x7f357fdbe150>,\n",
              " <keras.layers.normalization.batch_normalization.BatchNormalization at 0x7f357fd9cc10>,\n",
              " <keras.layers.advanced_activations.ReLU at 0x7f3528d7b9d0>,\n",
              " <keras.layers.convolutional.Conv2D at 0x7f357fd90d50>,\n",
              " <keras.layers.normalization.batch_normalization.BatchNormalization at 0x7f357fdf2510>,\n",
              " <keras.layers.convolutional.Conv2D at 0x7f357fdebfd0>,\n",
              " <keras.layers.normalization.batch_normalization.BatchNormalization at 0x7f357fdc03d0>,\n",
              " <keras.layers.advanced_activations.ReLU at 0x7f357fe60a10>,\n",
              " <keras.layers.convolutional.DepthwiseConv2D at 0x7f357fe29e90>,\n",
              " <keras.layers.normalization.batch_normalization.BatchNormalization at 0x7f357fd51a50>,\n",
              " <keras.layers.advanced_activations.ReLU at 0x7f357fe77610>,\n",
              " <keras.layers.convolutional.Conv2D at 0x7f357fd55090>,\n",
              " <keras.layers.normalization.batch_normalization.BatchNormalization at 0x7f357fd5a890>,\n",
              " <keras.layers.merge.Add at 0x7f357fd55950>,\n",
              " <keras.layers.convolutional.Conv2D at 0x7f357fd5f9d0>,\n",
              " <keras.layers.normalization.batch_normalization.BatchNormalization at 0x7f357fd69110>,\n",
              " <keras.layers.advanced_activations.ReLU at 0x7f357fd67e90>,\n",
              " <keras.layers.convolutional.DepthwiseConv2D at 0x7f357fe69310>,\n",
              " <keras.layers.normalization.batch_normalization.BatchNormalization at 0x7f357fd7c690>,\n",
              " <keras.layers.advanced_activations.ReLU at 0x7f357fd7c8d0>,\n",
              " <keras.layers.convolutional.Conv2D at 0x7f357fd01890>,\n",
              " <keras.layers.normalization.batch_normalization.BatchNormalization at 0x7f357fd05e90>,\n",
              " <keras.layers.merge.Add at 0x7f357fd0c510>,\n",
              " <keras.layers.convolutional.Conv2D at 0x7f357fd08350>,\n",
              " <keras.layers.normalization.batch_normalization.BatchNormalization at 0x7f357fd1c250>,\n",
              " <keras.layers.advanced_activations.ReLU at 0x7f357fd25490>,\n",
              " <keras.layers.convolutional.DepthwiseConv2D at 0x7f357fd25f50>,\n",
              " <keras.layers.normalization.batch_normalization.BatchNormalization at 0x7f357fd24fd0>,\n",
              " <keras.layers.advanced_activations.ReLU at 0x7f357fd38190>,\n",
              " <keras.layers.convolutional.Conv2D at 0x7f357fd38f90>,\n",
              " <keras.layers.normalization.batch_normalization.BatchNormalization at 0x7f357fd3dfd0>,\n",
              " <keras.layers.merge.Add at 0x7f357fccddd0>,\n",
              " <keras.layers.convolutional.Conv2D at 0x7f357fcc35d0>,\n",
              " <keras.layers.normalization.batch_normalization.BatchNormalization at 0x7f357fcd9350>,\n",
              " <keras.layers.advanced_activations.ReLU at 0x7f357fcdb7d0>,\n",
              " <keras.layers.convolutional.DepthwiseConv2D at 0x7f357fce1550>,\n",
              " <keras.layers.normalization.batch_normalization.BatchNormalization at 0x7f357fcc8350>,\n",
              " <keras.layers.advanced_activations.ReLU at 0x7f357fcef4d0>,\n",
              " <keras.layers.convolutional.Conv2D at 0x7f357fcf5890>,\n",
              " <keras.layers.normalization.batch_normalization.BatchNormalization at 0x7f357fce9590>,\n",
              " <keras.layers.convolutional.Conv2D at 0x7f357fcc3310>,\n",
              " <keras.layers.normalization.batch_normalization.BatchNormalization at 0x7f357fd3dd10>,\n",
              " <keras.layers.advanced_activations.ReLU at 0x7f357fcc3e10>,\n",
              " <keras.layers.convolutional.DepthwiseConv2D at 0x7f357fce7f10>,\n",
              " <keras.layers.normalization.batch_normalization.BatchNormalization at 0x7f357fd71950>,\n",
              " <keras.layers.advanced_activations.ReLU at 0x7f357fd12810>,\n",
              " <keras.layers.convolutional.Conv2D at 0x7f357fd16410>,\n",
              " <keras.layers.normalization.batch_normalization.BatchNormalization at 0x7f357fe64ed0>,\n",
              " <keras.layers.merge.Add at 0x7f357fdb0910>,\n",
              " <keras.layers.convolutional.Conv2D at 0x7f357fdbe390>,\n",
              " <keras.layers.normalization.batch_normalization.BatchNormalization at 0x7f357fcffb50>,\n",
              " <keras.layers.advanced_activations.ReLU at 0x7f357fd2cdd0>,\n",
              " <keras.layers.convolutional.DepthwiseConv2D at 0x7f357fd2c950>,\n",
              " <keras.layers.normalization.batch_normalization.BatchNormalization at 0x7f357fc80c90>,\n",
              " <keras.layers.advanced_activations.ReLU at 0x7f357fc888d0>,\n",
              " <keras.layers.convolutional.Conv2D at 0x7f357fc88690>,\n",
              " <keras.layers.normalization.batch_normalization.BatchNormalization at 0x7f357fc8e650>,\n",
              " <keras.layers.merge.Add at 0x7f357fc99f10>,\n",
              " <keras.layers.convolutional.Conv2D at 0x7f357fc9dad0>,\n",
              " <keras.layers.normalization.batch_normalization.BatchNormalization at 0x7f357fca5c50>,\n",
              " <keras.layers.advanced_activations.ReLU at 0x7f357fcac590>,\n",
              " <keras.layers.convolutional.ZeroPadding2D at 0x7f357fcb5f10>,\n",
              " <keras.layers.convolutional.DepthwiseConv2D at 0x7f357fc9d750>,\n",
              " <keras.layers.normalization.batch_normalization.BatchNormalization at 0x7f357fcbfe90>,\n",
              " <keras.layers.advanced_activations.ReLU at 0x7f357fc4cad0>,\n",
              " <keras.layers.convolutional.Conv2D at 0x7f357fc4c190>,\n",
              " <keras.layers.normalization.batch_normalization.BatchNormalization at 0x7f357fc55350>,\n",
              " <keras.layers.convolutional.Conv2D at 0x7f357fc5f150>,\n",
              " <keras.layers.normalization.batch_normalization.BatchNormalization at 0x7f357fc55a10>,\n",
              " <keras.layers.advanced_activations.ReLU at 0x7f357fc68850>,\n",
              " <keras.layers.convolutional.DepthwiseConv2D at 0x7f357fc6be90>,\n",
              " <keras.layers.normalization.batch_normalization.BatchNormalization at 0x7f357fc74b10>,\n",
              " <keras.layers.advanced_activations.ReLU at 0x7f357fc68190>,\n",
              " <keras.layers.convolutional.Conv2D at 0x7f357fc7bf90>,\n",
              " <keras.layers.normalization.batch_normalization.BatchNormalization at 0x7f357fc01850>,\n",
              " <keras.layers.merge.Add at 0x7f357fc7cbd0>,\n",
              " <keras.layers.convolutional.Conv2D at 0x7f357fc688d0>,\n",
              " <keras.layers.normalization.batch_normalization.BatchNormalization at 0x7f357fc14250>,\n",
              " <keras.layers.advanced_activations.ReLU at 0x7f357fc0ee50>,\n",
              " <keras.layers.convolutional.DepthwiseConv2D at 0x7f357fc7b950>,\n",
              " <keras.layers.normalization.batch_normalization.BatchNormalization at 0x7f357fc4e790>,\n",
              " <keras.layers.advanced_activations.ReLU at 0x7f3528f3cad0>,\n",
              " <keras.layers.convolutional.Conv2D at 0x7f359e2f2650>,\n",
              " <keras.layers.normalization.batch_normalization.BatchNormalization at 0x7f357fe144d0>,\n",
              " <keras.layers.merge.Add at 0x7f3528d65050>,\n",
              " <keras.layers.convolutional.Conv2D at 0x7f357fe58750>,\n",
              " <keras.layers.normalization.batch_normalization.BatchNormalization at 0x7f357fd98950>,\n",
              " <keras.layers.advanced_activations.ReLU at 0x7f357fdd5810>,\n",
              " <keras.layers.convolutional.DepthwiseConv2D at 0x7f357fdf2d10>,\n",
              " <keras.layers.normalization.batch_normalization.BatchNormalization at 0x7f357fcdb910>,\n",
              " <keras.layers.advanced_activations.ReLU at 0x7f357fd96a50>,\n",
              " <keras.layers.convolutional.Conv2D at 0x7f357fccd150>,\n",
              " <keras.layers.normalization.batch_normalization.BatchNormalization at 0x7f357fc63790>,\n",
              " <keras.layers.convolutional.Conv2D at 0x7f357fe64e90>,\n",
              " <keras.layers.normalization.batch_normalization.BatchNormalization at 0x7f357fdb0310>,\n",
              " <keras.layers.advanced_activations.ReLU at 0x7f357fcfae50>,\n",
              " <keras.layers.pooling.GlobalAveragePooling2D at 0x7f357fcef590>]"
            ]
          },
          "metadata": {},
          "execution_count": 30
        }
      ]
    },
    {
      "cell_type": "code",
      "source": [
        "model.layers[0].trainable=False\n",
        "model.compile(optimizer='adam',loss='categorical_crossentropy',metrics=['accuracy'])\n",
        "step_per_epoch_train=len(traindata)\n",
        "step_per_epoch_vaild=len(testdata)\n",
        "num_epoch=10\n"
      ],
      "metadata": {
        "id": "VwCDDlL3p_4o"
      },
      "execution_count": 31,
      "outputs": []
    },
    {
      "cell_type": "code",
      "source": [
        "pach_size_train=64\n",
        "pach_size_valid=64\n",
        "\n",
        "hist = model.fit_generator(traindata,\n",
        "                           steps_per_epoch = pach_size_train,\n",
        "                           epochs = num_epoch,\n",
        "                           validation_data = testdata,\n",
        "                           validation_steps =pach_size_valid\n",
        "                           )"
      ],
      "metadata": {
        "colab": {
          "base_uri": "https://localhost:8080/"
        },
        "id": "CQaP3KhgsnZg",
        "outputId": "b7767f53-076b-41cd-a340-d1450567bbf0"
      },
      "execution_count": 32,
      "outputs": [
        {
          "output_type": "stream",
          "name": "stderr",
          "text": [
            "/usr/local/lib/python3.7/dist-packages/ipykernel_launcher.py:8: UserWarning: `Model.fit_generator` is deprecated and will be removed in a future version. Please use `Model.fit`, which supports generators.\n",
            "  \n"
          ]
        },
        {
          "output_type": "stream",
          "name": "stdout",
          "text": [
            "Epoch 1/10\n",
            "64/64 [==============================] - 81s 1s/step - loss: 0.5109 - accuracy: 0.7949 - val_loss: 0.3215 - val_accuracy: 0.8760\n",
            "Epoch 2/10\n",
            "64/64 [==============================] - 75s 1s/step - loss: 0.2982 - accuracy: 0.8706 - val_loss: 0.2675 - val_accuracy: 0.8970\n",
            "Epoch 3/10\n",
            "64/64 [==============================] - 66s 1s/step - loss: 0.2495 - accuracy: 0.8979 - val_loss: 0.2426 - val_accuracy: 0.9053\n",
            "Epoch 4/10\n",
            "64/64 [==============================] - 63s 983ms/step - loss: 0.2384 - accuracy: 0.9062 - val_loss: 0.2215 - val_accuracy: 0.9150\n",
            "Epoch 5/10\n",
            "64/64 [==============================] - 62s 982ms/step - loss: 0.1978 - accuracy: 0.9224 - val_loss: 0.2443 - val_accuracy: 0.9014\n",
            "Epoch 6/10\n",
            "64/64 [==============================] - 61s 956ms/step - loss: 0.2130 - accuracy: 0.9219 - val_loss: 0.2097 - val_accuracy: 0.9185\n",
            "Epoch 7/10\n",
            "64/64 [==============================] - 58s 916ms/step - loss: 0.1781 - accuracy: 0.9297 - val_loss: 0.1896 - val_accuracy: 0.9307\n",
            "Epoch 8/10\n",
            "64/64 [==============================] - 57s 902ms/step - loss: 0.1882 - accuracy: 0.9268 - val_loss: 0.2076 - val_accuracy: 0.9126\n",
            "Epoch 9/10\n",
            "64/64 [==============================] - 57s 894ms/step - loss: 0.1831 - accuracy: 0.9321 - val_loss: 0.2028 - val_accuracy: 0.9199\n",
            "Epoch 10/10\n",
            "64/64 [==============================] - 61s 959ms/step - loss: 0.1817 - accuracy: 0.9268 - val_loss: 0.1829 - val_accuracy: 0.9302\n"
          ]
        }
      ]
    },
    {
      "cell_type": "code",
      "source": [
        "#model.save('/content/drive/MyDrive/ddvdata/model_saved.h5')\n"
      ],
      "metadata": {
        "id": "myEJemdIu9kr"
      },
      "execution_count": 12,
      "outputs": []
    },
    {
      "cell_type": "code",
      "source": [
        "#model.save_spec('/content/drive/MyDrive/ddvdata/model_saved_1.h5')"
      ],
      "metadata": {
        "colab": {
          "base_uri": "https://localhost:8080/"
        },
        "id": "LGFoWivVvTg6",
        "outputId": "6504ae14-26af-4a7a-d37d-2f4474947bff"
      },
      "execution_count": 13,
      "outputs": [
        {
          "output_type": "execute_result",
          "data": {
            "text/plain": [
              "([TensorSpec(shape=(None, None, None, 3), dtype=tf.float32, name='vgg16_input')],\n",
              " {})"
            ]
          },
          "metadata": {},
          "execution_count": 13
        }
      ]
    },
    {
      "cell_type": "code",
      "source": [
        "#model.save_weights('/content/drive/MyDrive/ddvdata/model_saved_2.h5')"
      ],
      "metadata": {
        "id": "pGOOt4QTvUn7"
      },
      "execution_count": 14,
      "outputs": []
    },
    {
      "cell_type": "code",
      "source": [
        "from keras.models import load_model\n",
        "model = load_model('/content/drive/MyDrive/ddvdata/model_saved.h5')"
      ],
      "metadata": {
        "id": "fjVtGoVGL9KB"
      },
      "execution_count": 47,
      "outputs": []
    },
    {
      "cell_type": "code",
      "source": [
        "traindata = trdata.flow_from_directory(directory=train,target_size=(image_size,image_size),shuffle=False)\n"
      ],
      "metadata": {
        "colab": {
          "base_uri": "https://localhost:8080/"
        },
        "id": "XU4iM4xzZkcw",
        "outputId": "02b229f4-0630-435e-9519-dce8f67b1360"
      },
      "execution_count": 48,
      "outputs": [
        {
          "output_type": "stream",
          "name": "stdout",
          "text": [
            "Found 10759 images belonging to 3 classes.\n"
          ]
        }
      ]
    },
    {
      "cell_type": "code",
      "source": [
        "test_score=model.evaluate(testdata)\n"
      ],
      "metadata": {
        "colab": {
          "base_uri": "https://localhost:8080/"
        },
        "id": "YwtAh8MCbR74",
        "outputId": "6d389b17-1bbe-4731-a5e1-a55cd6db274d"
      },
      "execution_count": 49,
      "outputs": [
        {
          "output_type": "stream",
          "name": "stdout",
          "text": [
            "84/84 [==============================] - 38s 450ms/step - loss: 0.4801 - accuracy: 0.8438\n"
          ]
        }
      ]
    },
    {
      "cell_type": "code",
      "source": [
        "import matplotlib.pyplot as plt\n"
      ],
      "metadata": {
        "id": "39g4WxdHcOux"
      },
      "execution_count": 50,
      "outputs": []
    },
    {
      "cell_type": "code",
      "source": [
        "#plot\n",
        "plt.plot(hist.history['loss'], label = 'train')\n",
        "plt.plot(hist.history['val_loss'], label = 'val')\n",
        "plt.title('cnn_model_val')\n",
        "plt.legend()\n",
        "plt.show()"
      ],
      "metadata": {
        "colab": {
          "base_uri": "https://localhost:8080/",
          "height": 281
        },
        "id": "GeHTTkIVbm6p",
        "outputId": "c8f8f1e9-c5c6-41d3-9680-61a62dc7c355"
      },
      "execution_count": 51,
      "outputs": [
        {
          "output_type": "display_data",
          "data": {
            "text/plain": [
              "<Figure size 432x288 with 1 Axes>"
            ],
            "image/png": "[encoded data removed]"
          },
          "metadata": {
            "needs_background": "light"
          }
        }
      ]
    },
    {
      "cell_type": "code",
      "source": [
        "plt.plot(hist.history['accuracy'], label = 'train')\n",
        "plt.plot(hist.history['val_accuracy'], label = 'val')\n",
        "plt.title('cnn_model_acc')\n",
        "plt.legend()\n",
        "plt.show()"
      ],
      "metadata": {
        "colab": {
          "base_uri": "https://localhost:8080/",
          "height": 281
        },
        "id": "EMpoEhzdbpYa",
        "outputId": "48a9d2e4-8aa3-4c14-c3d2-5cadd01020ac"
      },
      "execution_count": 52,
      "outputs": [
        {
          "output_type": "display_data",
          "data": {
            "text/plain": [
              "<Figure size 432x288 with 1 Axes>"
            ],
            "image/png": "[encoded data removed]"
          },
          "metadata": {
            "needs_background": "light"
          }
        }
      ]
    },
    {
      "cell_type": "code",
      "source": [
        "#confusion matrix\n",
        "import numpy as np\n",
        "target = ['cov19','normal','pen']\n",
        "label = [0,1,2]\n",
        "\n",
        "Y_pred = model.predict_generator(testdata)\n",
        "y_pred = np.argmax(Y_pred,axis=1)\n"
      ],
      "metadata": {
        "colab": {
          "base_uri": "https://localhost:8080/"
        },
        "id": "JTxb9pRwbr8h",
        "outputId": "1ee5aa36-069e-4f7d-bd95-1a06607659f8"
      },
      "execution_count": 53,
      "outputs": [
        {
          "output_type": "stream",
          "name": "stderr",
          "text": [
            "/usr/local/lib/python3.7/dist-packages/ipykernel_launcher.py:6: UserWarning: `Model.predict_generator` is deprecated and will be removed in a future version. Please use `Model.predict`, which supports generators.\n",
            "  \n"
          ]
        }
      ]
    },
    {
      "cell_type": "code",
      "source": [
        "from sklearn.metrics import classification_report,confusion_matrix,plot_confusion_matrix,ConfusionMatrixDisplay"
      ],
      "metadata": {
        "id": "7uSaxXcCbuOA"
      },
      "execution_count": 54,
      "outputs": []
    },
    {
      "cell_type": "code",
      "source": [
        "cm = confusion_matrix(testdata.classes,y_pred,labels=label)\n",
        "\n",
        "print ('confusmatris')\n",
        "print (confusion_matrix(testdata.classes,y_pred))\n",
        "\n",
        "print ('classification_report')\n",
        "print (classification_report(testdata.classes,y_pred, target_names = target))\n",
        "\n",
        "disp = ConfusionMatrixDisplay(confusion_matrix=cm,display_labels=target)\n",
        "#disp = disp.plot(cmap = plt.cm.Blues,values_format='g')\n",
        "disp = disp.plot(cmap = plt.cm.Blues,values_format='g')\n",
        "\n",
        "plt.show()"
      ],
      "metadata": {
        "colab": {
          "base_uri": "https://localhost:8080/",
          "height": 539
        },
        "id": "UIdG3PnEbxIi",
        "outputId": "e2810e9a-ebde-4f20-bc13-42976605aff6"
      },
      "execution_count": 57,
      "outputs": [
        {
          "output_type": "stream",
          "name": "stdout",
          "text": [
            "confusmatris\n",
            "[[316 291 289]\n",
            " [280 319 297]\n",
            " [269 298 329]]\n",
            "classification_report\n",
            "              precision    recall  f1-score   support\n",
            "\n",
            "       cov19       0.37      0.35      0.36       896\n",
            "      normal       0.35      0.36      0.35       896\n",
            "         pen       0.36      0.37      0.36       896\n",
            "\n",
            "    accuracy                           0.36      2688\n",
            "   macro avg       0.36      0.36      0.36      2688\n",
            "weighted avg       0.36      0.36      0.36      2688\n",
            "\n"
          ]
        },
        {
          "output_type": "display_data",
          "data": {
            "text/plain": [
              "<Figure size 432x288 with 2 Axes>"
            ],
            "image/png": "[encoded data removed]"
          },
          "metadata": {
            "needs_background": "light"
          }
        }
      ]
    },
    {
      "cell_type": "code",
      "source": [
        "acc = hist.history['accuracy']\n",
        "val_acc = hist.history['val_accuracy']\n",
        "loss = hist.history['loss']\n",
        "val_loss = hist.history['val_loss']\n",
        "\n",
        "epochs = range(1, len(acc) + 1)\n",
        "\n",
        "plt.plot(epochs, acc, 'bo', label='Training acc')\n",
        "plt.plot(epochs, val_acc, 'b', label='Validation acc')\n",
        "plt.title('Training and validation accuracy')\n",
        "plt.legend()\n",
        "\n",
        "plt.figure()\n",
        "\n",
        "plt.plot(epochs, loss, 'bo', label='Training loss')\n",
        "plt.plot(epochs, val_loss, 'b', label='Validation loss')\n",
        "plt.title('Training and validation loss')\n",
        "plt.legend()\n",
        "\n",
        "plt.show()"
      ],
      "metadata": {
        "colab": {
          "base_uri": "https://localhost:8080/",
          "height": 545
        },
        "id": "F-u78XPVc3Uf",
        "outputId": "d424b172-b38f-45a9-b890-d92e88828dda"
      },
      "execution_count": 41,
      "outputs": [
        {
          "output_type": "display_data",
          "data": {
            "text/plain": [
              "<Figure size 432x288 with 1 Axes>"
            ],
            "image/png": "[encoded data removed]"
          },
          "metadata": {
            "needs_background": "light"
          }
        },
        {
          "output_type": "display_data",
          "data": {
            "text/plain": [
              "<Figure size 432x288 with 1 Axes>"
            ],
            "image/png": "[encoded data removed]"
          },
          "metadata": {
            "needs_background": "light"
          }
        }
      ]
    }
  ]
}