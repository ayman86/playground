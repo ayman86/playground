{
  "nbformat": 4,
  "nbformat_minor": 0,
  "metadata": {
    "colab": {
      "name": "m_oraganal_data.ipynb",
      "provenance": [],
      "collapsed_sections": [],
      "mount_file_id": "https://github.com/ayman86/playground/blob/master/m_oraganal_data.ipynb",
      "authorship_tag": "ABX9TyNVKMhVlgJl4YBJxmp0pfeW",
      "include_colab_link": true
    },
    "kernelspec": {
      "name": "python3",
      "display_name": "Python 3"
    },
    "language_info": {
      "name": "python"
    },
    "accelerator": "GPU"
  },
  "cells": [
    {
      "cell_type": "markdown",
      "metadata": {
        "id": "view-in-github",
        "colab_type": "text"
      },
      "source": [
        "<a href=\"https://colab.research.google.com/github/ayman86/playground/blob/master/cov_vgg16.ipynb\" target=\"_parent\"><img src=\"https://colab.research.google.com/assets/colab-badge.svg\" alt=\"Open In Colab\"/></a>"
      ]
    },
    {
      "cell_type": "code",
      "source": [
        "#!wget https://figshare.com/ndownloader/files/3381290\n",
        "#!unzip 3381290\n"
      ],
      "metadata": {
        "id": "u68n8xgTZynS"
      },
      "execution_count": null,
      "outputs": []
    },
    {
      "cell_type": "code",
      "source": [
        "import keras\n",
        "from keras.preprocessing.image import ImageDataGenerator\n",
        "from keras.models import Sequential\n",
        "from keras.layers import Dense\n",
        "from keras.applications.vgg16 import VGG16\n",
        "from keras.applications.vgg16 import preprocess_input\n",
        "from keras.utils.traceback_utils import include_frame\n"
      ],
      "metadata": {
        "id": "l9HxHrUPkw0P"
      },
      "execution_count": 2,
      "outputs": []
    },
    {
      "cell_type": "code",
      "source": [
        "num_classes=3\n",
        "image_size=227\n"
      ],
      "metadata": {
        "id": "mehYTugHlvOQ"
      },
      "execution_count": 3,
      "outputs": []
    },
    {
      "cell_type": "code",
      "source": [
        "data_genarater=ImageDataGenerator(preprocessing_function=preprocess_input)"
      ],
      "metadata": {
        "id": "1Is4ovXymMXr"
      },
      "execution_count": null,
      "outputs": []
    },
    {
      "cell_type": "code",
      "source": [
        "train  = '/content/drive/MyDrive/ddvdata/train'\n",
        "test  = '/content/drive/MyDrive/ddvdata/test'\n",
        "#Therd step resize\n",
        "trdata = ImageDataGenerator(rescale= 1./255,\n",
        "                            shear_range=0.2,\n",
        "                            zoom_range=0.2,\n",
        "                            horizontal_flip= True,\n",
        ")\n",
        "traindata = trdata.flow_from_directory(directory=train,target_size=(image_size,image_size))\n",
        "\n",
        "tsdata = ImageDataGenerator(rescale= 1./255,\n",
        "                            shear_range=0.2,\n",
        "                            zoom_range=0.2,\n",
        "                            horizontal_flip= True,\n",
        ")\n",
        "testdata = tsdata.flow_from_directory(directory=test,target_size=(227,227))\n",
        "\n",
        "input_shape = (227,227,3)"
      ],
      "metadata": {
        "colab": {
          "base_uri": "https://localhost:8080/"
        },
        "id": "jeyh82p8mdW4",
        "outputId": "1ea0d29e-00f6-4cc3-ddb7-01b6330aa5d8"
      },
      "execution_count": 5,
      "outputs": [
        {
          "output_type": "stream",
          "name": "stdout",
          "text": [
            "Found 10759 images belonging to 3 classes.\n",
            "Found 2688 images belonging to 3 classes.\n"
          ]
        }
      ]
    },
    {
      "cell_type": "code",
      "source": [
        "model=Sequential()\n",
        "model.add(VGG16(include_top=False,pooling='avg',weights='imagenet'))\n"
      ],
      "metadata": {
        "id": "rer5Bm-Un6qI",
        "outputId": "38369326-266b-4f92-b458-c26ab4d52413",
        "colab": {
          "base_uri": "https://localhost:8080/"
        }
      },
      "execution_count": 6,
      "outputs": [
        {
          "output_type": "stream",
          "name": "stdout",
          "text": [
            "Downloading data from https://storage.googleapis.com/tensorflow/keras-applications/vgg16/vgg16_weights_tf_dim_ordering_tf_kernels_notop.h5\n",
            "58892288/58889256 [==============================] - 0s 0us/step\n",
            "58900480/58889256 [==============================] - 0s 0us/step\n"
          ]
        }
      ]
    },
    {
      "cell_type": "code",
      "source": [
        "model.add(Dense(num_classes,activation='softmax'))"
      ],
      "metadata": {
        "id": "CLT_bdHPpJU6"
      },
      "execution_count": 7,
      "outputs": []
    },
    {
      "cell_type": "code",
      "source": [
        "model.layers[0].layers"
      ],
      "metadata": {
        "colab": {
          "base_uri": "https://localhost:8080/"
        },
        "id": "3ZrfpiwKpxao",
        "outputId": "49108fc8-b3d7-42ec-f667-85f9b8d6bbb8"
      },
      "execution_count": 8,
      "outputs": [
        {
          "output_type": "execute_result",
          "data": {
            "text/plain": [
              "[<keras.engine.input_layer.InputLayer at 0x7f361ec34110>,\n",
              " <keras.layers.convolutional.Conv2D at 0x7f361bcba1d0>,\n",
              " <keras.layers.convolutional.Conv2D at 0x7f361a7b0e10>,\n",
              " <keras.layers.pooling.MaxPooling2D at 0x7f361b3d6550>,\n",
              " <keras.layers.convolutional.Conv2D at 0x7f3619063950>,\n",
              " <keras.layers.convolutional.Conv2D at 0x7f361b8ac450>,\n",
              " <keras.layers.pooling.MaxPooling2D at 0x7f361b8b8990>,\n",
              " <keras.layers.convolutional.Conv2D at 0x7f361b8b5550>,\n",
              " <keras.layers.convolutional.Conv2D at 0x7f361b8baf10>,\n",
              " <keras.layers.convolutional.Conv2D at 0x7f361b8ca410>,\n",
              " <keras.layers.pooling.MaxPooling2D at 0x7f361b8b5f50>,\n",
              " <keras.layers.convolutional.Conv2D at 0x7f361b37a050>,\n",
              " <keras.layers.convolutional.Conv2D at 0x7f361b37eb50>,\n",
              " <keras.layers.convolutional.Conv2D at 0x7f361b387510>,\n",
              " <keras.layers.pooling.MaxPooling2D at 0x7f361b37a950>,\n",
              " <keras.layers.convolutional.Conv2D at 0x7f361b38eb50>,\n",
              " <keras.layers.convolutional.Conv2D at 0x7f361b393690>,\n",
              " <keras.layers.convolutional.Conv2D at 0x7f361b38f950>,\n",
              " <keras.layers.pooling.MaxPooling2D at 0x7f361b39b710>,\n",
              " <keras.layers.pooling.GlobalAveragePooling2D at 0x7f361b3a5190>]"
            ]
          },
          "metadata": {},
          "execution_count": 8
        }
      ]
    },
    {
      "cell_type": "code",
      "source": [
        "model.layers[0].trainable=False\n",
        "model.compile(optimizer='adam',loss='categorical_crossentropy',metrics=['accuracy'])\n",
        "step_per_epoch_train=len(traindata)\n",
        "step_per_epoch_vaild=len(testdata)\n",
        "num_epoch=10\n"
      ],
      "metadata": {
        "id": "VwCDDlL3p_4o"
      },
      "execution_count": 9,
      "outputs": []
    },
    {
      "cell_type": "code",
      "source": [
        "pach_size_train=64\n",
        "pach_size_valid=64\n",
        "\n",
        "hist = model.fit_generator(traindata,\n",
        "                           steps_per_epoch = pach_size_train,\n",
        "                           epochs = num_epoch,\n",
        "                           validation_data = testdata,\n",
        "                           validation_steps =pach_size_valid\n",
        "                           )"
      ],
      "metadata": {
        "colab": {
          "base_uri": "https://localhost:8080/"
        },
        "id": "CQaP3KhgsnZg",
        "outputId": "74473f04-3a8a-4273-8417-8ffb9429b1ca"
      },
      "execution_count": 11,
      "outputs": [
        {
          "output_type": "stream",
          "name": "stderr",
          "text": [
            "/usr/local/lib/python3.7/dist-packages/ipykernel_launcher.py:8: UserWarning: `Model.fit_generator` is deprecated and will be removed in a future version. Please use `Model.fit`, which supports generators.\n",
            "  \n"
          ]
        },
        {
          "output_type": "stream",
          "name": "stdout",
          "text": [
            "Epoch 1/10\n",
            "64/64 [==============================] - 1078s 17s/step - loss: 1.0553 - accuracy: 0.4878 - val_loss: 0.9547 - val_accuracy: 0.7446\n",
            "Epoch 2/10\n",
            "64/64 [==============================] - 493s 8s/step - loss: 0.8795 - accuracy: 0.7646 - val_loss: 0.8222 - val_accuracy: 0.7920\n",
            "Epoch 3/10\n",
            "64/64 [==============================] - 333s 5s/step - loss: 0.7701 - accuracy: 0.8077 - val_loss: 0.7270 - val_accuracy: 0.8242\n",
            "Epoch 4/10\n",
            "64/64 [==============================] - 256s 4s/step - loss: 0.6824 - accuracy: 0.8237 - val_loss: 0.6652 - val_accuracy: 0.8130\n",
            "Epoch 5/10\n",
            "64/64 [==============================] - 222s 3s/step - loss: 0.6291 - accuracy: 0.8398 - val_loss: 0.6181 - val_accuracy: 0.8223\n",
            "Epoch 6/10\n",
            "64/64 [==============================] - 185s 3s/step - loss: 0.5858 - accuracy: 0.8374 - val_loss: 0.5854 - val_accuracy: 0.8105\n",
            "Epoch 7/10\n",
            "64/64 [==============================] - 160s 3s/step - loss: 0.5530 - accuracy: 0.8394 - val_loss: 0.5433 - val_accuracy: 0.8398\n",
            "Epoch 8/10\n",
            "64/64 [==============================] - 149s 2s/step - loss: 0.5163 - accuracy: 0.8521 - val_loss: 0.5321 - val_accuracy: 0.8291\n",
            "Epoch 9/10\n",
            "64/64 [==============================] - 125s 2s/step - loss: 0.5038 - accuracy: 0.8438 - val_loss: 0.4954 - val_accuracy: 0.8433\n",
            "Epoch 10/10\n",
            "64/64 [==============================] - 116s 2s/step - loss: 0.4840 - accuracy: 0.8550 - val_loss: 0.4810 - val_accuracy: 0.8496\n"
          ]
        }
      ]
    },
    {
      "cell_type": "code",
      "source": [
        "model.save('/content/drive/MyDrive/ddvdata/model_saved.h5')\n"
      ],
      "metadata": {
        "id": "myEJemdIu9kr"
      },
      "execution_count": 12,
      "outputs": []
    },
    {
      "cell_type": "code",
      "source": [
        "model.save_spec('/content/drive/MyDrive/ddvdata/model_saved_1.h5')"
      ],
      "metadata": {
        "colab": {
          "base_uri": "https://localhost:8080/"
        },
        "id": "LGFoWivVvTg6",
        "outputId": "6504ae14-26af-4a7a-d37d-2f4474947bff"
      },
      "execution_count": 13,
      "outputs": [
        {
          "output_type": "execute_result",
          "data": {
            "text/plain": [
              "([TensorSpec(shape=(None, None, None, 3), dtype=tf.float32, name='vgg16_input')],\n",
              " {})"
            ]
          },
          "metadata": {},
          "execution_count": 13
        }
      ]
    },
    {
      "cell_type": "code",
      "source": [
        "model.save_weights('/content/drive/MyDrive/ddvdata/model_saved_2.h5')"
      ],
      "metadata": {
        "id": "pGOOt4QTvUn7"
      },
      "execution_count": 14,
      "outputs": []
    },
    {
      "cell_type": "code",
      "source": [
        "#from keras.models import load_model\n",
        "#model = load_model('/content/drive/MyDrive/Mdvdata/model_saved.h5')"
      ],
      "metadata": {
        "id": "fjVtGoVGL9KB"
      },
      "execution_count": null,
      "outputs": []
    },
    {
      "cell_type": "code",
      "source": [
        "traindata = trdata.flow_from_directory(directory=train,target_size=(image_size,image_size),shuffle=False)\n"
      ],
      "metadata": {
        "colab": {
          "base_uri": "https://localhost:8080/"
        },
        "id": "XU4iM4xzZkcw",
        "outputId": "18787373-bf7d-4f61-d375-3b179b1aa65b"
      },
      "execution_count": 15,
      "outputs": [
        {
          "output_type": "stream",
          "name": "stdout",
          "text": [
            "Found 10759 images belonging to 3 classes.\n"
          ]
        }
      ]
    },
    {
      "cell_type": "code",
      "source": [
        "test_score=model.evaluate(testdata)\n"
      ],
      "metadata": {
        "colab": {
          "base_uri": "https://localhost:8080/"
        },
        "id": "YwtAh8MCbR74",
        "outputId": "8c9632a5-36cb-4af3-a30b-e4e605e90a03"
      },
      "execution_count": 16,
      "outputs": [
        {
          "output_type": "stream",
          "name": "stdout",
          "text": [
            "84/84 [==============================] - 38s 446ms/step - loss: 0.4811 - accuracy: 0.8464\n"
          ]
        }
      ]
    },
    {
      "cell_type": "code",
      "source": [
        "import matplotlib.pyplot as plt\n"
      ],
      "metadata": {
        "id": "39g4WxdHcOux"
      },
      "execution_count": 17,
      "outputs": []
    },
    {
      "cell_type": "code",
      "source": [
        "#plot\n",
        "plt.plot(hist.history['loss'], label = 'train')\n",
        "plt.plot(hist.history['val_loss'], label = 'val')\n",
        "plt.title('cnn_model_val')\n",
        "plt.legend()\n",
        "plt.show()"
      ],
      "metadata": {
        "colab": {
          "base_uri": "https://localhost:8080/",
          "height": 281
        },
        "id": "GeHTTkIVbm6p",
        "outputId": "20c8e818-0843-4083-dbab-fb0272685029"
      },
      "execution_count": 18,
      "outputs": [
        {
          "output_type": "display_data",
          "data": {
            "text/plain": [
              "<Figure size 432x288 with 1 Axes>"
            ],
            "image/png": "[encoded data removed]"
          },
          "metadata": {
            "needs_background": "light"
          }
        }
      ]
    },
    {
      "cell_type": "code",
      "source": [
        "plt.plot(hist.history['accuracy'], label = 'train')\n",
        "plt.plot(hist.history['val_accuracy'], label = 'val')\n",
        "plt.title('cnn_model_acc')\n",
        "plt.legend()\n",
        "plt.show()"
      ],
      "metadata": {
        "colab": {
          "base_uri": "https://localhost:8080/",
          "height": 281
        },
        "id": "EMpoEhzdbpYa",
        "outputId": "5f2fa236-59a4-4d95-9bbf-9a0dfef85dc6"
      },
      "execution_count": 19,
      "outputs": [
        {
          "output_type": "display_data",
          "data": {
            "text/plain": [
              "<Figure size 432x288 with 1 Axes>"
            ],
            "image/png": "[encoded data removed]"
          },
          "metadata": {
            "needs_background": "light"
          }
        }
      ]
    },
    {
      "cell_type": "code",
      "source": [
        "#confusion matrix\n",
        "import numpy as np\n",
        "target = ['cov19','normal','pen']\n",
        "label = [0,1,2]\n",
        "\n",
        "Y_pred = model.predict_generator(testdata)\n",
        "y_pred = np.argmax(Y_pred,axis=1)\n"
      ],
      "metadata": {
        "colab": {
          "base_uri": "https://localhost:8080/"
        },
        "id": "JTxb9pRwbr8h",
        "outputId": "0eb49670-8dd9-4dd8-9bf6-fdec55c677aa"
      },
      "execution_count": 20,
      "outputs": [
        {
          "output_type": "stream",
          "name": "stderr",
          "text": [
            "/usr/local/lib/python3.7/dist-packages/ipykernel_launcher.py:6: UserWarning: `Model.predict_generator` is deprecated and will be removed in a future version. Please use `Model.predict`, which supports generators.\n",
            "  \n"
          ]
        }
      ]
    },
    {
      "cell_type": "code",
      "source": [
        "from sklearn.metrics import classification_report,confusion_matrix,plot_confusion_matrix,ConfusionMatrixDisplay"
      ],
      "metadata": {
        "id": "7uSaxXcCbuOA"
      },
      "execution_count": 21,
      "outputs": []
    },
    {
      "cell_type": "code",
      "source": [
        "cm = confusion_matrix(testdata.classes,y_pred,labels=label)\n",
        "\n",
        "print ('confusmatris')\n",
        "print (confusion_matrix(testdata.classes,y_pred))\n",
        "\n",
        "print ('classification_report')\n",
        "print (classification_report(testdata.classes,y_pred, target_names = target))\n",
        "\n",
        "disp = ConfusionMatrixDisplay(confusion_matrix=cm,display_labels=target)\n",
        "#disp = disp.plot(cmap = plt.cm.Blues,values_format='g')\n",
        "disp = disp.plot(cmap = plt.cm.Blues,values_format='g')\n",
        "\n",
        "plt.show()"
      ],
      "metadata": {
        "colab": {
          "base_uri": "https://localhost:8080/",
          "height": 539
        },
        "id": "UIdG3PnEbxIi",
        "outputId": "f461e2af-5eac-4614-aa25-eacc2760bb58"
      },
      "execution_count": 22,
      "outputs": [
        {
          "output_type": "stream",
          "name": "stdout",
          "text": [
            "confusmatris\n",
            "[[256 313 327]\n",
            " [315 291 290]\n",
            " [287 299 310]]\n",
            "classification_report\n",
            "              precision    recall  f1-score   support\n",
            "\n",
            "       cov19       0.30      0.29      0.29       896\n",
            "      normal       0.32      0.32      0.32       896\n",
            "         pen       0.33      0.35      0.34       896\n",
            "\n",
            "    accuracy                           0.32      2688\n",
            "   macro avg       0.32      0.32      0.32      2688\n",
            "weighted avg       0.32      0.32      0.32      2688\n",
            "\n"
          ]
        },
        {
          "output_type": "display_data",
          "data": {
            "text/plain": [
              "<Figure size 432x288 with 2 Axes>"
            ],
            "image/png": "[encoded data removed]"
          },
          "metadata": {
            "needs_background": "light"
          }
        }
      ]
    },
    {
      "cell_type": "code",
      "source": [
        "acc = hist.history['accuracy']\n",
        "val_acc = hist.history['val_accuracy']\n",
        "loss = hist.history['loss']\n",
        "val_loss = hist.history['val_loss']\n",
        "\n",
        "epochs = range(1, len(acc) + 1)\n",
        "\n",
        "plt.plot(epochs, acc, 'bo', label='Training acc')\n",
        "plt.plot(epochs, val_acc, 'b', label='Validation acc')\n",
        "plt.title('Training and validation accuracy')\n",
        "plt.legend()\n",
        "\n",
        "plt.figure()\n",
        "\n",
        "plt.plot(epochs, loss, 'bo', label='Training loss')\n",
        "plt.plot(epochs, val_loss, 'b', label='Validation loss')\n",
        "plt.title('Training and validation loss')\n",
        "plt.legend()\n",
        "\n",
        "plt.show()"
      ],
      "metadata": {
        "colab": {
          "base_uri": "https://localhost:8080/",
          "height": 545
        },
        "id": "F-u78XPVc3Uf",
        "outputId": "b890a577-c9eb-401c-ff23-60731e713d9c"
      },
      "execution_count": 23,
      "outputs": [
        {
          "output_type": "display_data",
          "data": {
            "text/plain": [
              "<Figure size 432x288 with 1 Axes>"
            ],
            "image/png": "[encoded data removed]"
          },
          "metadata": {
            "needs_background": "light"
          }
        },
        {
          "output_type": "display_data",
          "data": {
            "text/plain": [
              "<Figure size 432x288 with 1 Axes>"
            ],
            "image/png": "[encoded data removed]"
          },
          "metadata": {
            "needs_background": "light"
          }
        }
      ]
    }
  ]
}