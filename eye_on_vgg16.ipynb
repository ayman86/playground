{
  "nbformat": 4,
  "nbformat_minor": 0,
  "metadata": {
    "colab": {
      "provenance": [],
      "authorship_tag": "ABX9TyNqg7W/Jb57Fxkg2LBqladj",
      "include_colab_link": true
    },
    "kernelspec": {
      "name": "python3",
      "display_name": "Python 3"
    },
    "language_info": {
      "name": "python"
    }
  },
  "cells": [
    {
      "cell_type": "markdown",
      "metadata": {
        "id": "view-in-github",
        "colab_type": "text"
      },
      "source": [
        "<a href=\"https://colab.research.google.com/github/ayman86/playground/blob/tensor/eye_on_vgg16.ipynb\" target=\"_parent\"><img src=\"https://colab.research.google.com/assets/colab-badge.svg\" alt=\"Open In Colab\"/></a>"
      ]
    },
    {
      "cell_type": "code",
      "source": [
        "#!wget https://figshare.com/ndownloader/files/3381290\n",
        "#!unzip 3381290\n"
      ],
      "metadata": {
        "id": "u68n8xgTZynS"
      },
      "execution_count": null,
      "outputs": []
    },
    {
      "cell_type": "code",
      "source": [
        "import tensorflow.keras\n",
        "import matplotlib.pyplot as plt\n",
        "import numpy as np\n",
        "from tensorflow.keras.models import Model\n",
        "from tensorflow.keras.layers import Input, Dense, Activation,Flatten,Conv2D,MaxPool2D\n",
        "from tensorflow.keras.optimizers import Adam\n",
        "from tensorflow.keras.preprocessing.image import ImageDataGenerator\n",
        "from tensorflow.keras.losses import binary_crossentropy\n",
        "from tensorflow.keras import metrics\n",
        "from sklearn.metrics import classification_report,confusion_matrix,plot_confusion_matrix,ConfusionMatrixDisplay"
      ],
      "metadata": {
        "id": "pdPQiR3kZ_A3"
      },
      "execution_count": null,
      "outputs": []
    },
    {
      "cell_type": "code",
      "source": [
        "from __future__ import print_function\n",
        "import keras\n",
        "from keras.datasets import cifar10\n",
        "from keras.preprocessing.image import ImageDataGenerator\n",
        "from keras.models import Sequential\n",
        "import random\n",
        "import numpy as np\n",
        "from keras.layers import Dense, Dropout, Activation, Flatten\n",
        "from keras.layers import Conv2D, MaxPooling2D\n",
        "from tensorflow.keras.optimizers import RMSprop,SGD,Adam\n",
        "from tensorflow.keras.utils import to_categorical\n",
        "import matplotlib.pyplot as plt\n",
        "%matplotlib inline\n",
        "\n",
        "INPUT_SHAPE = (224,224,3)\n",
        "\n",
        "model = Sequential()\n",
        "\n",
        "model.add(Conv2D(filters=32, kernel_size=(5,5), strides=(2,2),activation='relu', padding='same', input_shape=INPUT_SHAPE))\n",
        "model.add(MaxPooling2D(pool_size=(2,2)))\n",
        "model.add(Dropout(rate=0.2))\n",
        "\n",
        "model.add(Conv2D(filters=64, kernel_size=(5,5),strides=(2,2), activation='relu', padding='same', input_shape=INPUT_SHAPE))\n",
        "model.add(MaxPooling2D(pool_size=(2,2)))\n",
        "model.add(Dropout(rate=0.3))\n",
        "\n",
        "model.add(Conv2D(filters=32, kernel_size=(5,5),strides=(2,2), activation='relu', padding='same', input_shape=INPUT_SHAPE))\n",
        "model.add(MaxPooling2D(pool_size=(2,2)))\n",
        "model.add(Dropout(rate=0.4))\n",
        "\n",
        "model.add(Conv2D(filters=16, kernel_size=(5,5),strides=(2,2), activation='relu', padding='same', input_shape=INPUT_SHAPE))\n",
        "model.add(MaxPooling2D(pool_size=(2,2)))\n",
        "model.add(Dropout(rate=0.5))\n",
        "\n",
        "model.add(Flatten())\n",
        "model.add(Dense(8, activation='relu'))\n",
        "model.add(Dropout(rate=0.5))\n",
        "model.add(Dense(2, activation='softmax'))\n",
        "model.summary()\n"
      ],
      "metadata": {
        "colab": {
          "base_uri": "https://localhost:8080/"
        },
        "id": "o839uU0d-bU5",
        "outputId": "a0457e3c-7f02-4016-9eed-520b71f8bda2"
      },
      "execution_count": null,
      "outputs": [
        {
          "output_type": "stream",
          "name": "stdout",
          "text": [
            "Model: \"sequential_3\"\n",
            "_________________________________________________________________\n",
            " Layer (type)                Output Shape              Param #   \n",
            "=================================================================\n",
            " conv2d_10 (Conv2D)          (None, 112, 112, 32)      2432      \n",
            "                                                                 \n",
            " max_pooling2d_8 (MaxPooling  (None, 56, 56, 32)       0         \n",
            " 2D)                                                             \n",
            "                                                                 \n",
            " dropout_9 (Dropout)         (None, 56, 56, 32)        0         \n",
            "                                                                 \n",
            " conv2d_11 (Conv2D)          (None, 28, 28, 64)        51264     \n",
            "                                                                 \n",
            " max_pooling2d_9 (MaxPooling  (None, 14, 14, 64)       0         \n",
            " 2D)                                                             \n",
            "                                                                 \n",
            " dropout_10 (Dropout)        (None, 14, 14, 64)        0         \n",
            "                                                                 \n",
            " conv2d_12 (Conv2D)          (None, 7, 7, 32)          51232     \n",
            "                                                                 \n",
            " max_pooling2d_10 (MaxPoolin  (None, 3, 3, 32)         0         \n",
            " g2D)                                                            \n",
            "                                                                 \n",
            " dropout_11 (Dropout)        (None, 3, 3, 32)          0         \n",
            "                                                                 \n",
            " conv2d_13 (Conv2D)          (None, 2, 2, 16)          12816     \n",
            "                                                                 \n",
            " max_pooling2d_11 (MaxPoolin  (None, 1, 1, 16)         0         \n",
            " g2D)                                                            \n",
            "                                                                 \n",
            " dropout_12 (Dropout)        (None, 1, 1, 16)          0         \n",
            "                                                                 \n",
            " flatten_3 (Flatten)         (None, 16)                0         \n",
            "                                                                 \n",
            " dense_6 (Dense)             (None, 8)                 136       \n",
            "                                                                 \n",
            " dropout_13 (Dropout)        (None, 8)                 0         \n",
            "                                                                 \n",
            " dense_7 (Dense)             (None, 2)                 18        \n",
            "                                                                 \n",
            "=================================================================\n",
            "Total params: 117,898\n",
            "Trainable params: 117,898\n",
            "Non-trainable params: 0\n",
            "_________________________________________________________________\n"
          ]
        }
      ]
    },
    {
      "cell_type": "code",
      "source": [
        "train  = '/content/drive/MyDrive/dtest/train'\n",
        "test  = '/content/drive/MyDrive/dtest/val'\n",
        "\n",
        "#Therd step resize\n",
        "trdata = ImageDataGenerator(rescale= 1./255,\n",
        "                            shear_range=0.2,\n",
        "                            zoom_range=0.2,\n",
        "                            horizontal_flip= True,\n",
        ")\n",
        "traindata = trdata.flow_from_directory(directory=train,target_size=(224,224))\n",
        "\n",
        "tsdata = ImageDataGenerator(rescale= 1./255,\n",
        "                            shear_range=0.2,\n",
        "                            zoom_range=0.2,\n",
        "                            horizontal_flip= True,\n",
        ")\n",
        "testdata = tsdata.flow_from_directory(directory=test,target_size=(224,224))\n",
        "\n",
        "model.compile(optimizer ='adam',loss = binary_crossentropy, metrics =['accuracy'])\n",
        "\n"
      ],
      "metadata": {
        "colab": {
          "base_uri": "https://localhost:8080/"
        },
        "id": "FOHIBJSUCXx5",
        "outputId": "f1ce46a5-c2d5-47d2-941f-c58be6001f44"
      },
      "execution_count": null,
      "outputs": [
        {
          "output_type": "stream",
          "name": "stdout",
          "text": [
            "Found 1260 images belonging to 2 classes.\n",
            "Found 316 images belonging to 2 classes.\n"
          ]
        }
      ]
    },
    {
      "cell_type": "code",
      "source": [
        "hist = model.fit(traindata,steps_per_epoch = traindata.samples//32,\n",
        "                 validation_data = testdata,\n",
        "                 validation_steps = testdata.samples//32,\n",
        "                 epochs = 10\n",
        "                 )"
      ],
      "metadata": {
        "colab": {
          "base_uri": "https://localhost:8080/"
        },
        "id": "qgjbduI6DEmG",
        "outputId": "13adaa96-7a39-4428-d4ab-ab18e892f4e2"
      },
      "execution_count": null,
      "outputs": [
        {
          "output_type": "stream",
          "name": "stdout",
          "text": [
            "Epoch 1/10\n",
            "39/39 [==============================] - 46s 1s/step - loss: 0.6980 - accuracy: 0.4821 - val_loss: 0.6923 - val_accuracy: 0.6111\n",
            "Epoch 2/10\n",
            "39/39 [==============================] - 44s 1s/step - loss: 0.6918 - accuracy: 0.5358 - val_loss: 0.6854 - val_accuracy: 0.5625\n",
            "Epoch 3/10\n",
            "39/39 [==============================] - 45s 1s/step - loss: 0.6837 - accuracy: 0.5513 - val_loss: 0.6527 - val_accuracy: 0.6806\n",
            "Epoch 4/10\n",
            "39/39 [==============================] - 44s 1s/step - loss: 0.6905 - accuracy: 0.5334 - val_loss: 0.6820 - val_accuracy: 0.7153\n",
            "Epoch 5/10\n",
            "39/39 [==============================] - 42s 1s/step - loss: 0.6644 - accuracy: 0.6050 - val_loss: 0.6018 - val_accuracy: 0.7049\n",
            "Epoch 6/10\n",
            "39/39 [==============================] - 44s 1s/step - loss: 0.6535 - accuracy: 0.6360 - val_loss: 0.6037 - val_accuracy: 0.7083\n",
            "Epoch 7/10\n",
            "39/39 [==============================] - 42s 1s/step - loss: 0.6285 - accuracy: 0.6490 - val_loss: 0.5875 - val_accuracy: 0.7153\n",
            "Epoch 8/10\n",
            "39/39 [==============================] - 44s 1s/step - loss: 0.6254 - accuracy: 0.6621 - val_loss: 0.5515 - val_accuracy: 0.7812\n",
            "Epoch 9/10\n",
            "39/39 [==============================] - 42s 1s/step - loss: 0.6325 - accuracy: 0.6775 - val_loss: 0.5625 - val_accuracy: 0.7674\n",
            "Epoch 10/10\n",
            "39/39 [==============================] - 42s 1s/step - loss: 0.6045 - accuracy: 0.6906 - val_loss: 0.5689 - val_accuracy: 0.7604\n"
          ]
        }
      ]
    },
    {
      "cell_type": "code",
      "source": [
        "score = model.evaluate(traindata, verbose=0)\n",
        "print('Test loss:', score[0])\n",
        "print('Test accuracy:', score[1])"
      ],
      "metadata": {
        "colab": {
          "base_uri": "https://localhost:8080/"
        },
        "id": "wIG_il1tHb-l",
        "outputId": "1703bf2c-6799-4ada-9a4a-a5b2701eed56"
      },
      "execution_count": null,
      "outputs": [
        {
          "output_type": "stream",
          "name": "stdout",
          "text": [
            "Test loss: 0.5834746956825256\n",
            "Test accuracy: 0.7309523820877075\n"
          ]
        }
      ]
    },
    {
      "cell_type": "code",
      "source": [
        "plt.plot(hist.history['loss'], label = 'train')\n",
        "plt.plot(hist.history['val_loss'], label = 'val')\n",
        "plt.title('cnn_model_val')\n",
        "plt.legend()\n",
        "plt.show()\n",
        "\n",
        "\n",
        "plt.plot(hist.history['accuracy'], label = 'train')\n",
        "plt.plot(hist.history['val_accuracy'], label = 'val')\n",
        "plt.title('cnn_model_acc')\n",
        "plt.legend()\n",
        "plt.show()\n",
        "\n",
        "target = ['abnormal','normal']\n",
        "label = [0,1]\n",
        "\n",
        "Y_pred = model.predict_generator(traindata)\n",
        "y_pred = np.argmax(Y_pred,axis=1)\n",
        "\n",
        "cm = confusion_matrix(traindata.classes,y_pred,labels=label)\n",
        "\n",
        "print ('confusmatris')\n",
        "print (confusion_matrix(traindata.classes,y_pred))\n",
        "\n",
        "print ('classification_report')\n",
        "print (classification_report(traindata.classes,y_pred, target_names = target))\n",
        "\n",
        "disp = ConfusionMatrixDisplay(confusion_matrix=cm,display_labels=target)\n",
        "disp = disp.plot(cmap = plt.cm.Blues,values_format='g')\n",
        "plt.show()"
      ],
      "metadata": {
        "colab": {
          "base_uri": "https://localhost:8080/",
          "height": 1000
        },
        "id": "xXS26pVf-kdQ",
        "outputId": "ac84c2ec-d735-47f7-a4c2-5a0d0e3e0851"
      },
      "execution_count": null,
      "outputs": [
        {
          "output_type": "display_data",
          "data": {
            "text/plain": [
              "<Figure size 432x288 with 1 Axes>"
            ],
            "image/png": "[encoded data removed]"
          },
          "metadata": {
            "needs_background": "light"
          }
        },
        {
          "output_type": "display_data",
          "data": {
            "text/plain": [
              "<Figure size 432x288 with 1 Axes>"
            ],
            "image/png": "[encoded data removed]"
          },
          "metadata": {
            "needs_background": "light"
          }
        },
        {
          "output_type": "stream",
          "name": "stderr",
          "text": [
            "/usr/local/lib/python3.7/dist-packages/ipykernel_launcher.py:17: UserWarning: `Model.predict_generator` is deprecated and will be removed in a future version. Please use `Model.predict`, which supports generators.\n"
          ]
        },
        {
          "output_type": "stream",
          "name": "stdout",
          "text": [
            "confusmatris\n",
            "[[196 434]\n",
            " [199 431]]\n",
            "classification_report\n",
            "              precision    recall  f1-score   support\n",
            "\n",
            "    abnormal       0.50      0.31      0.38       630\n",
            "      normal       0.50      0.68      0.58       630\n",
            "\n",
            "    accuracy                           0.50      1260\n",
            "   macro avg       0.50      0.50      0.48      1260\n",
            "weighted avg       0.50      0.50      0.48      1260\n",
            "\n"
          ]
        },
        {
          "output_type": "display_data",
          "data": {
            "text/plain": [
              "<Figure size 432x288 with 2 Axes>"
            ],
            "image/png": "[encoded data removed]"
          },
          "metadata": {
            "needs_background": "light"
          }
        }
      ]
    },
    {
      "cell_type": "code",
      "source": [
        "train  = '/content/drive/MyDrive/dtest/train'\n",
        "test  = '/content/drive/MyDrive/dtest/val'\n",
        "\n",
        "#Therd step resize\n",
        "trdata = ImageDataGenerator(rescale= 1./255,\n",
        "                            shear_range=0.2,\n",
        "                            zoom_range=0.2,\n",
        "                            horizontal_flip= True,\n",
        ")\n",
        "traindata = trdata.flow_from_directory(directory=train,target_size=(224,224))\n",
        "\n",
        "tsdata = ImageDataGenerator(rescale= 1./255,\n",
        "                            shear_range=0.2,\n",
        "                            zoom_range=0.2,\n",
        "                            horizontal_flip= True,\n",
        ")\n",
        "testdata = tsdata.flow_from_directory(directory=test,target_size=(224,224))\n",
        "\n",
        "input_shape = (224,224,3)"
      ],
      "metadata": {
        "colab": {
          "base_uri": "https://localhost:8080/"
        },
        "id": "Ninw5BsQaRny",
        "outputId": "5484166e-7d33-4802-c1b8-f431fb81742c"
      },
      "execution_count": null,
      "outputs": [
        {
          "output_type": "stream",
          "name": "stdout",
          "text": [
            "Found 1260 images belonging to 2 classes.\n",
            "Found 316 images belonging to 2 classes.\n"
          ]
        }
      ]
    },
    {
      "cell_type": "code",
      "source": [
        "img_input = Input(shape=input_shape,name = 'img_input')\n",
        "\n",
        "#conv_layer\n",
        "l1 = Conv2D(32,(3,3),padding='same',activation='relu',name='l1')(img_input)\n",
        "l1 = Conv2D(64,(3,3),padding='same',activation='relu',name='l2')(l1)\n",
        "l1 = MaxPool2D((2,2),strides=(2,2),name='l3')(l1)\n",
        "l1 = Dropout(0.2)(l1)\n",
        "\n",
        "l1 = Conv2D(64,(3,3),padding='same',activation='relu',name='l4')(l1)\n",
        "l1 = MaxPool2D((2,2),strides=(2,2),name='l5')(l1)\n",
        "l1 = Dropout(0.3)(l1)\n",
        "\n",
        "l1 = Conv2D(128,(3,3),padding='same',activation='relu',name='l6')(l1)\n",
        "l1 = MaxPool2D((2,2),strides=(2,2),name='l7')(l1)\n",
        "l1 = Dropout(0.4)(l1)\n",
        "\n",
        "l1 = Conv2D(256,(3,3),padding='same',activation='relu',name='l8')(l1)\n",
        "l1 = MaxPool2D((2,2),strides=(2,2),name='l9')(l1)\n",
        "l1 = Dropout(0.5)(l1)\n",
        "\n",
        "l1 = Flatten(name='fc1')(l1)\n",
        "l1 = Dense(64,name='l10')(l1)\n",
        "l1 = Dropout(0.5)(l1)\n",
        "\n",
        "l1 = Dense(2,activation='sigmoid',name='predictions')(l1)\n",
        "\n",
        "#Generate model\n",
        "model = Model(inputs=img_input,outputs=l1,name='Binary_classification')\n",
        "model.summary()\n",
        "\n",
        "# compiling model\n",
        "model.compile(optimizer ='adam',loss = binary_crossentropy, metrics =['accuracy'])\n",
        "# start train & test\n",
        "batch_size = 32"
      ],
      "metadata": {
        "colab": {
          "base_uri": "https://localhost:8080/"
        },
        "id": "bMs3kVPOag4c",
        "outputId": "bfc48a2e-8b25-4eb8-d2c1-b1f2a87267eb"
      },
      "execution_count": null,
      "outputs": [
        {
          "output_type": "stream",
          "name": "stdout",
          "text": [
            "Model: \"Binary_classification\"\n",
            "_________________________________________________________________\n",
            " Layer (type)                Output Shape              Param #   \n",
            "=================================================================\n",
            " img_input (InputLayer)      [(None, 224, 224, 3)]     0         \n",
            "                                                                 \n",
            " l1 (Conv2D)                 (None, 224, 224, 32)      896       \n",
            "                                                                 \n",
            " l2 (Conv2D)                 (None, 224, 224, 64)      18496     \n",
            "                                                                 \n",
            " l3 (MaxPooling2D)           (None, 112, 112, 64)      0         \n",
            "                                                                 \n",
            " dropout (Dropout)           (None, 112, 112, 64)      0         \n",
            "                                                                 \n",
            " l4 (Conv2D)                 (None, 112, 112, 64)      36928     \n",
            "                                                                 \n",
            " l5 (MaxPooling2D)           (None, 56, 56, 64)        0         \n",
            "                                                                 \n",
            " dropout_1 (Dropout)         (None, 56, 56, 64)        0         \n",
            "                                                                 \n",
            " l6 (Conv2D)                 (None, 56, 56, 128)       73856     \n",
            "                                                                 \n",
            " l7 (MaxPooling2D)           (None, 28, 28, 128)       0         \n",
            "                                                                 \n",
            " dropout_2 (Dropout)         (None, 28, 28, 128)       0         \n",
            "                                                                 \n",
            " l8 (Conv2D)                 (None, 28, 28, 256)       295168    \n",
            "                                                                 \n",
            " l9 (MaxPooling2D)           (None, 14, 14, 256)       0         \n",
            "                                                                 \n",
            " dropout_3 (Dropout)         (None, 14, 14, 256)       0         \n",
            "                                                                 \n",
            " fc1 (Flatten)               (None, 50176)             0         \n",
            "                                                                 \n",
            " l10 (Dense)                 (None, 64)                3211328   \n",
            "                                                                 \n",
            " dropout_4 (Dropout)         (None, 64)                0         \n",
            "                                                                 \n",
            " predictions (Dense)         (None, 2)                 130       \n",
            "                                                                 \n",
            "=================================================================\n",
            "Total params: 3,636,802\n",
            "Trainable params: 3,636,802\n",
            "Non-trainable params: 0\n",
            "_________________________________________________________________\n"
          ]
        }
      ]
    },
    {
      "cell_type": "code",
      "source": [
        "hist = model.fit(traindata,steps_per_epoch = traindata.samples//batch_size,\n",
        "                 validation_data = testdata,\n",
        "                 validation_steps = testdata.samples//batch_size,\n",
        "                 epochs = 10\n",
        "                 )"
      ],
      "metadata": {
        "colab": {
          "base_uri": "https://localhost:8080/"
        },
        "id": "AEk-9fzHakvb",
        "outputId": "b8baa98a-83ab-441d-85ed-684a046d61b3"
      },
      "execution_count": null,
      "outputs": [
        {
          "output_type": "stream",
          "name": "stdout",
          "text": [
            "Epoch 1/10\n",
            "39/39 [==============================] - 496s 13s/step - loss: 0.7528 - accuracy: 0.5855 - val_loss: 0.5690 - val_accuracy: 0.7222\n",
            "Epoch 2/10\n",
            "39/39 [==============================] - 424s 11s/step - loss: 0.5936 - accuracy: 0.7003 - val_loss: 0.6318 - val_accuracy: 0.5417\n",
            "Epoch 3/10\n",
            "39/39 [==============================] - 422s 11s/step - loss: 0.5425 - accuracy: 0.7484 - val_loss: 0.4681 - val_accuracy: 0.7812\n",
            "Epoch 4/10\n",
            "39/39 [==============================] - 434s 11s/step - loss: 0.4874 - accuracy: 0.7692 - val_loss: 0.4782 - val_accuracy: 0.7951\n",
            "Epoch 5/10\n",
            "39/39 [==============================] - 426s 11s/step - loss: 0.4801 - accuracy: 0.7761 - val_loss: 0.4807 - val_accuracy: 0.8056\n",
            "Epoch 6/10\n",
            "39/39 [==============================] - 425s 11s/step - loss: 0.4668 - accuracy: 0.7875 - val_loss: 0.4378 - val_accuracy: 0.7917\n",
            "Epoch 7/10\n",
            "39/39 [==============================] - 427s 11s/step - loss: 0.4758 - accuracy: 0.7720 - val_loss: 0.4233 - val_accuracy: 0.8021\n",
            "Epoch 8/10\n",
            "39/39 [==============================] - 421s 11s/step - loss: 0.4489 - accuracy: 0.7972 - val_loss: 0.4033 - val_accuracy: 0.8333\n",
            "Epoch 9/10\n",
            "39/39 [==============================] - 421s 11s/step - loss: 0.4500 - accuracy: 0.8119 - val_loss: 0.4191 - val_accuracy: 0.8229\n",
            "Epoch 10/10\n",
            "39/39 [==============================] - 424s 11s/step - loss: 0.4326 - accuracy: 0.8111 - val_loss: 0.3909 - val_accuracy: 0.8646\n"
          ]
        }
      ]
    },
    {
      "cell_type": "code",
      "source": [
        "plt.plot(hist.history['loss'], label = 'train')\n",
        "plt.plot(hist.history['val_loss'], label = 'val')\n",
        "plt.title('cnn_model_val')\n",
        "plt.legend()\n",
        "plt.show()\n",
        "\n",
        "\n",
        "plt.plot(hist.history['accuracy'], label = 'train')\n",
        "plt.plot(hist.history['val_accuracy'], label = 'val')\n",
        "plt.title('cnn_model_acc')\n",
        "plt.legend()\n",
        "plt.show()\n",
        "\n",
        "target = ['abnormal','normal']\n",
        "label = [0,1]\n",
        "\n",
        "Y_pred = model.predict_generator(testdata)\n",
        "y_pred = np.argmax(Y_pred,axis=1)\n",
        "\n",
        "cm = confusion_matrix(testdata.classes,y_pred,labels=label)\n",
        "\n",
        "print ('confusmatris')\n",
        "print (confusion_matrix(testdata.classes,y_pred))\n",
        "\n",
        "print ('classification_report')\n",
        "print (classification_report(testdata.classes,y_pred, target_names = target))\n",
        "\n",
        "disp = ConfusionMatrixDisplay(confusion_matrix=cm,display_labels=target)\n",
        "disp = disp.plot(cmap = plt.cm.Blues,values_format='g')\n",
        "plt.show()"
      ],
      "metadata": {
        "colab": {
          "base_uri": "https://localhost:8080/",
          "height": 763
        },
        "id": "t_0eUsREharV",
        "outputId": "55388790-4a0d-4d1a-bea9-8d437fbb9f88"
      },
      "execution_count": null,
      "outputs": [
        {
          "output_type": "display_data",
          "data": {
            "text/plain": [
              "<Figure size 432x288 with 1 Axes>"
            ],
            "image/png": "[encoded data removed]"
          },
          "metadata": {
            "needs_background": "light"
          }
        },
        {
          "output_type": "display_data",
          "data": {
            "text/plain": [
              "<Figure size 432x288 with 1 Axes>"
            ],
            "image/png": "[encoded data removed]"
          },
          "metadata": {
            "needs_background": "light"
          }
        },
        {
          "output_type": "error",
          "ename": "AttributeError",
          "evalue": "ignored",
          "traceback": [
            "\u001b[0;31m---------------------------------------------------------------------------\u001b[0m",
            "\u001b[0;31mAttributeError\u001b[0m                            Traceback (most recent call last)",
            "\u001b[0;32m<ipython-input-18-4a82296f9d18>\u001b[0m in \u001b[0;36m<module>\u001b[0;34m\u001b[0m\n\u001b[1;32m     15\u001b[0m \u001b[0mlabel\u001b[0m \u001b[0;34m=\u001b[0m \u001b[0;34m[\u001b[0m\u001b[0;36m0\u001b[0m\u001b[0;34m,\u001b[0m\u001b[0;36m1\u001b[0m\u001b[0;34m]\u001b[0m\u001b[0;34m\u001b[0m\u001b[0;34m\u001b[0m\u001b[0m\n\u001b[1;32m     16\u001b[0m \u001b[0;34m\u001b[0m\u001b[0m\n\u001b[0;32m---> 17\u001b[0;31m \u001b[0mY_pred\u001b[0m \u001b[0;34m=\u001b[0m \u001b[0mmodel\u001b[0m\u001b[0;34m.\u001b[0m\u001b[0mpredict_generator\u001b[0m\u001b[0;34m(\u001b[0m\u001b[0mtestdata\u001b[0m\u001b[0;34m)\u001b[0m\u001b[0;34m\u001b[0m\u001b[0;34m\u001b[0m\u001b[0m\n\u001b[0m\u001b[1;32m     18\u001b[0m \u001b[0my_pred\u001b[0m \u001b[0;34m=\u001b[0m \u001b[0mnp\u001b[0m\u001b[0;34m.\u001b[0m\u001b[0margmax\u001b[0m\u001b[0;34m(\u001b[0m\u001b[0mY_pred\u001b[0m\u001b[0;34m,\u001b[0m\u001b[0maxis\u001b[0m\u001b[0;34m=\u001b[0m\u001b[0;36m1\u001b[0m\u001b[0;34m)\u001b[0m\u001b[0;34m\u001b[0m\u001b[0;34m\u001b[0m\u001b[0m\n\u001b[1;32m     19\u001b[0m \u001b[0;34m\u001b[0m\u001b[0m\n",
            "\u001b[0;31mAttributeError\u001b[0m: 'ellipsis' object has no attribute 'predict_generator'"
          ]
        }
      ]
    },
    {
      "cell_type": "code",
      "source": [
        "pip install git+https://github.com/paulgavrikov/visualkeras"
      ],
      "metadata": {
        "colab": {
          "base_uri": "https://localhost:8080/"
        },
        "id": "OLa0d4fXv370",
        "outputId": "7b7a82cc-51a7-4b64-db7a-4403f0221249"
      },
      "execution_count": null,
      "outputs": [
        {
          "output_type": "stream",
          "name": "stdout",
          "text": [
            "Looking in indexes: https://pypi.org/simple, https://us-python.pkg.dev/colab-wheels/public/simple/\n",
            "Collecting git+https://github.com/paulgavrikov/visualkeras\n",
            "  Cloning https://github.com/paulgavrikov/visualkeras to /tmp/pip-req-build-3cfcq090\n",
            "  Running command git clone -q https://github.com/paulgavrikov/visualkeras /tmp/pip-req-build-3cfcq090\n",
            "Requirement already satisfied: pillow>=6.2.0 in /usr/local/lib/python3.7/dist-packages (from visualkeras==0.0.2) (7.1.2)\n",
            "Requirement already satisfied: numpy>=1.18.1 in /usr/local/lib/python3.7/dist-packages (from visualkeras==0.0.2) (1.21.6)\n",
            "Requirement already satisfied: aggdraw>=1.3.11 in /usr/local/lib/python3.7/dist-packages (from visualkeras==0.0.2) (1.3.15)\n"
          ]
        }
      ]
    },
    {
      "cell_type": "code",
      "source": [
        "import visualkeras\n",
        "\n",
        "\n",
        "visualkeras.layered_view(model).show() # display using your system viewer\n",
        "visualkeras.layered_view(model, to_file='output.png') # write to disk\n",
        "visualkeras.layered_view(model, to_file='output.png').show() # write and show"
      ],
      "metadata": {
        "colab": {
          "base_uri": "https://localhost:8080/",
          "height": 391
        },
        "id": "sV3nU-_1v08s",
        "outputId": "bff40fe6-abff-4066-a7d0-2344fae2c07d"
      },
      "execution_count": null,
      "outputs": [
        {
          "output_type": "error",
          "ename": "AttributeError",
          "evalue": "ignored",
          "traceback": [
            "\u001b[0;31m---------------------------------------------------------------------------\u001b[0m",
            "\u001b[0;31mAttributeError\u001b[0m                            Traceback (most recent call last)",
            "\u001b[0;32m<ipython-input-17-814128fe14bd>\u001b[0m in \u001b[0;36m<module>\u001b[0;34m\u001b[0m\n\u001b[1;32m      2\u001b[0m \u001b[0;34m\u001b[0m\u001b[0m\n\u001b[1;32m      3\u001b[0m \u001b[0;34m\u001b[0m\u001b[0m\n\u001b[0;32m----> 4\u001b[0;31m \u001b[0mvisualkeras\u001b[0m\u001b[0;34m.\u001b[0m\u001b[0mlayered_view\u001b[0m\u001b[0;34m(\u001b[0m\u001b[0mmodel\u001b[0m\u001b[0;34m)\u001b[0m\u001b[0;34m.\u001b[0m\u001b[0mshow\u001b[0m\u001b[0;34m(\u001b[0m\u001b[0;34m)\u001b[0m \u001b[0;31m# display using your system viewer\u001b[0m\u001b[0;34m\u001b[0m\u001b[0;34m\u001b[0m\u001b[0m\n\u001b[0m\u001b[1;32m      5\u001b[0m \u001b[0mvisualkeras\u001b[0m\u001b[0;34m.\u001b[0m\u001b[0mlayered_view\u001b[0m\u001b[0;34m(\u001b[0m\u001b[0mmodel\u001b[0m\u001b[0;34m,\u001b[0m \u001b[0mto_file\u001b[0m\u001b[0;34m=\u001b[0m\u001b[0;34m'output.png'\u001b[0m\u001b[0;34m)\u001b[0m \u001b[0;31m# write to disk\u001b[0m\u001b[0;34m\u001b[0m\u001b[0;34m\u001b[0m\u001b[0m\n\u001b[1;32m      6\u001b[0m \u001b[0mvisualkeras\u001b[0m\u001b[0;34m.\u001b[0m\u001b[0mlayered_view\u001b[0m\u001b[0;34m(\u001b[0m\u001b[0mmodel\u001b[0m\u001b[0;34m,\u001b[0m \u001b[0mto_file\u001b[0m\u001b[0;34m=\u001b[0m\u001b[0;34m'output.png'\u001b[0m\u001b[0;34m)\u001b[0m\u001b[0;34m.\u001b[0m\u001b[0mshow\u001b[0m\u001b[0;34m(\u001b[0m\u001b[0;34m)\u001b[0m \u001b[0;31m# write and show\u001b[0m\u001b[0;34m\u001b[0m\u001b[0;34m\u001b[0m\u001b[0m\n",
            "\u001b[0;32m/usr/local/lib/python3.7/dist-packages/visualkeras/layered.py\u001b[0m in \u001b[0;36mlayered_view\u001b[0;34m(model, to_file, min_z, min_xy, max_z, max_xy, scale_z, scale_xy, type_ignore, index_ignore, color_map, one_dim_orientation, background_fill, draw_volume, padding, spacing, draw_funnel, shade_step, legend, font, font_color)\u001b[0m\n\u001b[1;32m     63\u001b[0m         \u001b[0mcolor_map\u001b[0m \u001b[0;34m=\u001b[0m \u001b[0mdict\u001b[0m\u001b[0;34m(\u001b[0m\u001b[0;34m)\u001b[0m\u001b[0;34m\u001b[0m\u001b[0;34m\u001b[0m\u001b[0m\n\u001b[1;32m     64\u001b[0m \u001b[0;34m\u001b[0m\u001b[0m\n\u001b[0;32m---> 65\u001b[0;31m     \u001b[0;32mfor\u001b[0m \u001b[0mindex\u001b[0m\u001b[0;34m,\u001b[0m \u001b[0mlayer\u001b[0m \u001b[0;32min\u001b[0m \u001b[0menumerate\u001b[0m\u001b[0;34m(\u001b[0m\u001b[0mmodel\u001b[0m\u001b[0;34m.\u001b[0m\u001b[0mlayers\u001b[0m\u001b[0;34m)\u001b[0m\u001b[0;34m:\u001b[0m\u001b[0;34m\u001b[0m\u001b[0;34m\u001b[0m\u001b[0m\n\u001b[0m\u001b[1;32m     66\u001b[0m \u001b[0;34m\u001b[0m\u001b[0m\n\u001b[1;32m     67\u001b[0m         \u001b[0;31m# Ignore layers that the use has opted out to\u001b[0m\u001b[0;34m\u001b[0m\u001b[0;34m\u001b[0m\u001b[0;34m\u001b[0m\u001b[0m\n",
            "\u001b[0;31mAttributeError\u001b[0m: 'ellipsis' object has no attribute 'layers'"
          ]
        }
      ]
    },
    {
      "cell_type": "code",
      "source": [
        "def is_same_domain(host, pattern):\n",
        " \"\"\"\n",
        " Return ``True`` if the host is either an exact match or a match\n",
        " to the wildcard pattern.\n",
        "\n",
        " Any pattern beginning with a period matches a domain and all of its\n",
        " subdomains. (e.g. ``.example.com`` matches ``example.com`` and\n",
        " ``foo.example.com``). Anything else is an exact string match.\n",
        " \"\"\"\n",
        " if not pattern:\n",
        "    return False\n",
        "\n",
        "  pattern = pattern.lower()\n",
        "  return (\n",
        "     pattern[0] == '.' and (host.endswith(pattern) or host == pattern[1:]) \n",
        "   or\n",
        "    pattern == host\n",
        "  )"
      ],
      "metadata": {
        "colab": {
          "base_uri": "https://localhost:8080/",
          "height": 130
        },
        "id": "Z2I5eV4o2gb-",
        "outputId": "70303718-de42-42da-9580-b6dd0205e6a1"
      },
      "execution_count": null,
      "outputs": [
        {
          "output_type": "error",
          "ename": "IndentationError",
          "evalue": "ignored",
          "traceback": [
            "\u001b[0;36m  File \u001b[0;32m\"<tokenize>\"\u001b[0;36m, line \u001b[0;32m13\u001b[0m\n\u001b[0;31m    pattern = pattern.lower()\u001b[0m\n\u001b[0m    ^\u001b[0m\n\u001b[0;31mIndentationError\u001b[0m\u001b[0;31m:\u001b[0m unindent does not match any outer indentation level\n"
          ]
        }
      ]
    },
    {
      "cell_type": "code",
      "source": [
        "import keras\n",
        "from keras.preprocessing.image import ImageDataGenerator\n",
        "from keras.models import Sequential\n",
        "from keras.layers import Dense\n",
        "from keras.applications import se\n",
        "from keras.applications.vgg16 import preprocess_input\n",
        "from keras.applications.vgg16 import decode_predictions\n",
        "from keras.applications.vgg16 import VGG16\n"
      ],
      "metadata": {
        "id": "l9HxHrUPkw0P"
      },
      "execution_count": null,
      "outputs": []
    },
    {
      "cell_type": "code",
      "source": [
        "num_classes=2\n",
        "image_size=224\n"
      ],
      "metadata": {
        "id": "mehYTugHlvOQ"
      },
      "execution_count": null,
      "outputs": []
    },
    {
      "cell_type": "code",
      "source": [
        "data_genarater=ImageDataGenerator(preprocessing_function=preprocess_input)"
      ],
      "metadata": {
        "id": "1Is4ovXymMXr",
        "colab": {
          "base_uri": "https://localhost:8080/",
          "height": 165
        },
        "outputId": "ed1da0d5-88b4-485a-fecc-deedc7c89340"
      },
      "execution_count": null,
      "outputs": [
        {
          "output_type": "error",
          "ename": "NameError",
          "evalue": "ignored",
          "traceback": [
            "\u001b[0;31m---------------------------------------------------------------------------\u001b[0m",
            "\u001b[0;31mNameError\u001b[0m                                 Traceback (most recent call last)",
            "\u001b[0;32m<ipython-input-4-fbec6cf05ec5>\u001b[0m in \u001b[0;36m<module>\u001b[0;34m\u001b[0m\n\u001b[0;32m----> 1\u001b[0;31m \u001b[0mdata_genarater\u001b[0m\u001b[0;34m=\u001b[0m\u001b[0mImageDataGenerator\u001b[0m\u001b[0;34m(\u001b[0m\u001b[0mpreprocessing_function\u001b[0m\u001b[0;34m=\u001b[0m\u001b[0mpreprocess_input\u001b[0m\u001b[0;34m)\u001b[0m\u001b[0;34m\u001b[0m\u001b[0;34m\u001b[0m\u001b[0m\n\u001b[0m",
            "\u001b[0;31mNameError\u001b[0m: name 'preprocess_input' is not defined"
          ]
        }
      ]
    },
    {
      "cell_type": "code",
      "source": [
        "train  = '/content/drive/MyDrive/dtest/train'\n",
        "test  = '/content/drive/MyDrive/dtest/val'\n",
        "#Therd step resize\n",
        "trdata = ImageDataGenerator(rescale= 1./255,\n",
        "                            shear_range=0.2,\n",
        "                            zoom_range=0.2,\n",
        "                            horizontal_flip= True,\n",
        ")\n",
        "traindata = trdata.flow_from_directory(directory=train,target_size=(image_size,image_size))\n",
        "\n",
        "tsdata = ImageDataGenerator(rescale= 1./255,\n",
        "                            shear_range=0.2,\n",
        "                            zoom_range=0.2,\n",
        "                            horizontal_flip= True,\n",
        ")\n",
        "testdata = tsdata.flow_from_directory(directory=test,target_size=(224,224))\n",
        "\n",
        "input_shape = (224,224,3)"
      ],
      "metadata": {
        "colab": {
          "base_uri": "https://localhost:8080/"
        },
        "id": "jeyh82p8mdW4",
        "outputId": "40a572ca-d0f2-4d61-b44d-6f35f7732bbb"
      },
      "execution_count": null,
      "outputs": [
        {
          "output_type": "stream",
          "name": "stdout",
          "text": [
            "Found 1260 images belonging to 2 classes.\n",
            "Found 316 images belonging to 2 classes.\n"
          ]
        }
      ]
    },
    {
      "cell_type": "code",
      "source": [
        "from keras.utils.traceback_utils import include_frame\n",
        "model=Sequential()\n",
        "model.add(VGG16(include_top=False,pooling='avg',weights='imagenet'))\n"
      ],
      "metadata": {
        "colab": {
          "base_uri": "https://localhost:8080/"
        },
        "id": "rer5Bm-Un6qI",
        "outputId": "bff648ed-ecb9-4327-dd2a-826ecff8bc01"
      },
      "execution_count": null,
      "outputs": [
        {
          "output_type": "stream",
          "name": "stdout",
          "text": [
            "Downloading data from https://storage.googleapis.com/tensorflow/keras-applications/vgg16/vgg16_weights_tf_dim_ordering_tf_kernels_notop.h5\n",
            "58892288/58889256 [==============================] - 0s 0us/step\n",
            "58900480/58889256 [==============================] - 0s 0us/step\n"
          ]
        }
      ]
    },
    {
      "cell_type": "code",
      "source": [
        "model.add(Dense(num_classes,activation='softmax'))"
      ],
      "metadata": {
        "id": "CLT_bdHPpJU6"
      },
      "execution_count": null,
      "outputs": []
    },
    {
      "cell_type": "code",
      "source": [
        "model.layers[0].layers"
      ],
      "metadata": {
        "colab": {
          "base_uri": "https://localhost:8080/"
        },
        "id": "3ZrfpiwKpxao",
        "outputId": "1b8708f5-b34b-466d-a8d6-539b6241fa5e"
      },
      "execution_count": null,
      "outputs": [
        {
          "output_type": "execute_result",
          "data": {
            "text/plain": [
              "[<keras.engine.input_layer.InputLayer at 0x7f14dc77a3d0>,\n",
              " <keras.layers.convolutional.Conv2D at 0x7f14dc124f90>,\n",
              " <keras.layers.convolutional.Conv2D at 0x7f14dcee4bd0>,\n",
              " <keras.layers.pooling.MaxPooling2D at 0x7f14d9517850>,\n",
              " <keras.layers.convolutional.Conv2D at 0x7f14d6c19d50>,\n",
              " <keras.layers.convolutional.Conv2D at 0x7f14dbc1e090>,\n",
              " <keras.layers.pooling.MaxPooling2D at 0x7f14d9517cd0>,\n",
              " <keras.layers.convolutional.Conv2D at 0x7f14d6c27790>,\n",
              " <keras.layers.convolutional.Conv2D at 0x7f14d6c2f150>,\n",
              " <keras.layers.convolutional.Conv2D at 0x7f14d6c27ed0>,\n",
              " <keras.layers.pooling.MaxPooling2D at 0x7f14d6c3b2d0>,\n",
              " <keras.layers.convolutional.Conv2D at 0x7f14d6c3dc50>,\n",
              " <keras.layers.convolutional.Conv2D at 0x7f14d6c42c10>,\n",
              " <keras.layers.convolutional.Conv2D at 0x7f14d6c3b650>,\n",
              " <keras.layers.pooling.MaxPooling2D at 0x7f14d6c516d0>,\n",
              " <keras.layers.convolutional.Conv2D at 0x7f14d6c25b10>,\n",
              " <keras.layers.convolutional.Conv2D at 0x7f14d6be4490>,\n",
              " <keras.layers.convolutional.Conv2D at 0x7f14d6bf1d90>,\n",
              " <keras.layers.pooling.MaxPooling2D at 0x7f14d6be72d0>,\n",
              " <keras.layers.pooling.GlobalAveragePooling2D at 0x7f14dbc1eb10>]"
            ]
          },
          "metadata": {},
          "execution_count": 13
        }
      ]
    },
    {
      "cell_type": "code",
      "source": [
        "model.layers[0].trainable=False\n",
        "model.compile(optimizer='adam',loss='categorical_crossentropy',metrics=['accuracy'])\n",
        "step_per_epoch_train=len(traindata)\n",
        "step_per_epoch_vaild=len(testdata)\n",
        "num_epoch=2\n"
      ],
      "metadata": {
        "id": "VwCDDlL3p_4o"
      },
      "execution_count": null,
      "outputs": []
    },
    {
      "cell_type": "code",
      "source": [
        "pach_size_train=32\n",
        "pach_size_valid=32\n",
        "\n",
        "hist = model.fit_generator(traindata,\n",
        "                           steps_per_epoch = pach_size_train,\n",
        "                           epochs = 10,\n",
        "                           validation_data = testdata,\n",
        "                           validation_steps =pach_size_valid\n",
        "                           )"
      ],
      "metadata": {
        "colab": {
          "base_uri": "https://localhost:8080/"
        },
        "id": "CQaP3KhgsnZg",
        "outputId": "bcd4f735-03fa-4352-f18f-a54f9563c7e3"
      },
      "execution_count": null,
      "outputs": [
        {
          "output_type": "stream",
          "name": "stderr",
          "text": [
            "/usr/local/lib/python3.7/dist-packages/ipykernel_launcher.py:8: UserWarning: `Model.fit_generator` is deprecated and will be removed in a future version. Please use `Model.fit`, which supports generators.\n",
            "  \n"
          ]
        },
        {
          "output_type": "stream",
          "name": "stdout",
          "text": [
            "Epoch 1/10\n",
            "32/32 [==============================] - ETA: 0s - loss: 0.6688 - accuracy: 0.6345 "
          ]
        },
        {
          "output_type": "stream",
          "name": "stderr",
          "text": [
            "WARNING:tensorflow:Your input ran out of data; interrupting training. Make sure that your dataset or generator can generate at least `steps_per_epoch * epochs` batches (in this case, 32 batches). You may need to use the repeat() function when building your dataset.\n"
          ]
        },
        {
          "output_type": "stream",
          "name": "stdout",
          "text": [
            "\b\b\b\b\b\b\b\b\b\b\b\b\b\b\b\b\b\b\b\b\b\b\b\b\b\b\b\b\b\b\b\b\b\b\b\b\b\b\b\b\b\b\b\b\b\b\b\b\b\b\b\b\b\b\b\b\b\b\b\b\b\b\b\b\b\b\b\b\b\b\b\b\b\b\b\b\b\b\b\b\b\b\r32/32 [==============================] - 733s 23s/step - loss: 0.6688 - accuracy: 0.6345 - val_loss: 0.6687 - val_accuracy: 0.6044\n",
            "Epoch 2/10\n",
            "32/32 [==============================] - 525s 16s/step - loss: 0.6650 - accuracy: 0.6424\n",
            "Epoch 3/10\n",
            "32/32 [==============================] - 534s 17s/step - loss: 0.6565 - accuracy: 0.6445\n",
            "Epoch 4/10\n",
            "32/32 [==============================] - 523s 16s/step - loss: 0.6502 - accuracy: 0.6743\n",
            "Epoch 5/10\n",
            "32/32 [==============================] - 533s 17s/step - loss: 0.6457 - accuracy: 0.6733\n",
            "Epoch 6/10\n",
            "32/32 [==============================] - 529s 16s/step - loss: 0.6388 - accuracy: 0.6853\n",
            "Epoch 7/10\n",
            "26/32 [=======================>......] - ETA: 1:38 - loss: 0.6415 - accuracy: 0.6466"
          ]
        }
      ]
    },
    {
      "cell_type": "code",
      "source": [
        "model.save('/content/drive/MyDrive/Mdvdata/model_saved.h5')\n"
      ],
      "metadata": {
        "colab": {
          "base_uri": "https://localhost:8080/",
          "height": 165
        },
        "id": "myEJemdIu9kr",
        "outputId": "f5653aae-7cbb-48da-dbad-bf5aa8435578"
      },
      "execution_count": null,
      "outputs": [
        {
          "output_type": "error",
          "ename": "NameError",
          "evalue": "ignored",
          "traceback": [
            "\u001b[0;31m---------------------------------------------------------------------------\u001b[0m",
            "\u001b[0;31mNameError\u001b[0m                                 Traceback (most recent call last)",
            "\u001b[0;32m<ipython-input-4-0076c77b7246>\u001b[0m in \u001b[0;36m<module>\u001b[0;34m()\u001b[0m\n\u001b[0;32m----> 1\u001b[0;31m \u001b[0mmodel\u001b[0m\u001b[0;34m.\u001b[0m\u001b[0msave\u001b[0m\u001b[0;34m(\u001b[0m\u001b[0;34m'/content/drive/MyDrive/Mdvdata/model_saved.h5'\u001b[0m\u001b[0;34m)\u001b[0m\u001b[0;34m\u001b[0m\u001b[0;34m\u001b[0m\u001b[0m\n\u001b[0m",
            "\u001b[0;31mNameError\u001b[0m: name 'model' is not defined"
          ]
        }
      ]
    },
    {
      "cell_type": "code",
      "source": [
        "model.save_spec('/content/drive/MyDrive/Mdvdata/model_saved.h5')"
      ],
      "metadata": {
        "colab": {
          "base_uri": "https://localhost:8080/"
        },
        "id": "LGFoWivVvTg6",
        "outputId": "a6fe558a-31cf-4f1e-8a4c-dda50b8b1a15"
      },
      "execution_count": null,
      "outputs": [
        {
          "output_type": "execute_result",
          "data": {
            "text/plain": [
              "([TensorSpec(shape=(None, None, None, 3), dtype=tf.float32, name='vgg16_input')],\n",
              " {})"
            ]
          },
          "metadata": {},
          "execution_count": 21
        }
      ]
    },
    {
      "cell_type": "code",
      "source": [
        "model.save_weights('/content/drive/MyDrive/Mdvdata/model_saved.h5')"
      ],
      "metadata": {
        "id": "pGOOt4QTvUn7"
      },
      "execution_count": null,
      "outputs": []
    },
    {
      "cell_type": "code",
      "source": [
        "import tensorflow\n",
        "\n",
        "from tensorflow import keras\n",
        "from keras.models import load_model\n",
        "model = load_model('model_saved.h5')"
      ],
      "metadata": {
        "colab": {
          "base_uri": "https://localhost:8080/",
          "height": 345
        },
        "id": "fjVtGoVGL9KB",
        "outputId": "15d2bdda-7aec-44d1-f956-b08b2377c9ad"
      },
      "execution_count": null,
      "outputs": [
        {
          "output_type": "error",
          "ename": "OSError",
          "evalue": "ignored",
          "traceback": [
            "\u001b[0;31m---------------------------------------------------------------------------\u001b[0m",
            "\u001b[0;31mOSError\u001b[0m                                   Traceback (most recent call last)",
            "\u001b[0;32m<ipython-input-28-4c3d1e27aa60>\u001b[0m in \u001b[0;36m<module>\u001b[0;34m()\u001b[0m\n\u001b[1;32m      4\u001b[0m \u001b[0;32mfrom\u001b[0m \u001b[0mtensorflow\u001b[0m \u001b[0;32mimport\u001b[0m \u001b[0mkeras\u001b[0m\u001b[0;34m\u001b[0m\u001b[0;34m\u001b[0m\u001b[0m\n\u001b[1;32m      5\u001b[0m \u001b[0;32mfrom\u001b[0m \u001b[0mkeras\u001b[0m\u001b[0;34m.\u001b[0m\u001b[0mmodels\u001b[0m \u001b[0;32mimport\u001b[0m \u001b[0mload_model\u001b[0m\u001b[0;34m\u001b[0m\u001b[0;34m\u001b[0m\u001b[0m\n\u001b[0;32m----> 6\u001b[0;31m \u001b[0mmodel\u001b[0m \u001b[0;34m=\u001b[0m \u001b[0mload_model\u001b[0m\u001b[0;34m(\u001b[0m\u001b[0;34m'model_saved.h5'\u001b[0m\u001b[0;34m)\u001b[0m\u001b[0;34m\u001b[0m\u001b[0;34m\u001b[0m\u001b[0m\n\u001b[0m",
            "\u001b[0;32m/usr/local/lib/python3.7/dist-packages/keras/utils/traceback_utils.py\u001b[0m in \u001b[0;36merror_handler\u001b[0;34m(*args, **kwargs)\u001b[0m\n\u001b[1;32m     65\u001b[0m     \u001b[0;32mexcept\u001b[0m \u001b[0mException\u001b[0m \u001b[0;32mas\u001b[0m \u001b[0me\u001b[0m\u001b[0;34m:\u001b[0m  \u001b[0;31m# pylint: disable=broad-except\u001b[0m\u001b[0;34m\u001b[0m\u001b[0;34m\u001b[0m\u001b[0m\n\u001b[1;32m     66\u001b[0m       \u001b[0mfiltered_tb\u001b[0m \u001b[0;34m=\u001b[0m \u001b[0m_process_traceback_frames\u001b[0m\u001b[0;34m(\u001b[0m\u001b[0me\u001b[0m\u001b[0;34m.\u001b[0m\u001b[0m__traceback__\u001b[0m\u001b[0;34m)\u001b[0m\u001b[0;34m\u001b[0m\u001b[0;34m\u001b[0m\u001b[0m\n\u001b[0;32m---> 67\u001b[0;31m       \u001b[0;32mraise\u001b[0m \u001b[0me\u001b[0m\u001b[0;34m.\u001b[0m\u001b[0mwith_traceback\u001b[0m\u001b[0;34m(\u001b[0m\u001b[0mfiltered_tb\u001b[0m\u001b[0;34m)\u001b[0m \u001b[0;32mfrom\u001b[0m \u001b[0;32mNone\u001b[0m\u001b[0;34m\u001b[0m\u001b[0;34m\u001b[0m\u001b[0m\n\u001b[0m\u001b[1;32m     68\u001b[0m     \u001b[0;32mfinally\u001b[0m\u001b[0;34m:\u001b[0m\u001b[0;34m\u001b[0m\u001b[0;34m\u001b[0m\u001b[0m\n\u001b[1;32m     69\u001b[0m       \u001b[0;32mdel\u001b[0m \u001b[0mfiltered_tb\u001b[0m\u001b[0;34m\u001b[0m\u001b[0;34m\u001b[0m\u001b[0m\n",
            "\u001b[0;32m/usr/local/lib/python3.7/dist-packages/keras/saving/save.py\u001b[0m in \u001b[0;36mload_model\u001b[0;34m(filepath, custom_objects, compile, options)\u001b[0m\n\u001b[1;32m    202\u001b[0m         \u001b[0;32mif\u001b[0m \u001b[0misinstance\u001b[0m\u001b[0;34m(\u001b[0m\u001b[0mfilepath_str\u001b[0m\u001b[0;34m,\u001b[0m \u001b[0mstr\u001b[0m\u001b[0;34m)\u001b[0m\u001b[0;34m:\u001b[0m\u001b[0;34m\u001b[0m\u001b[0;34m\u001b[0m\u001b[0m\n\u001b[1;32m    203\u001b[0m           \u001b[0;32mif\u001b[0m \u001b[0;32mnot\u001b[0m \u001b[0mtf\u001b[0m\u001b[0;34m.\u001b[0m\u001b[0mio\u001b[0m\u001b[0;34m.\u001b[0m\u001b[0mgfile\u001b[0m\u001b[0;34m.\u001b[0m\u001b[0mexists\u001b[0m\u001b[0;34m(\u001b[0m\u001b[0mfilepath_str\u001b[0m\u001b[0;34m)\u001b[0m\u001b[0;34m:\u001b[0m\u001b[0;34m\u001b[0m\u001b[0;34m\u001b[0m\u001b[0m\n\u001b[0;32m--> 204\u001b[0;31m             \u001b[0;32mraise\u001b[0m \u001b[0mIOError\u001b[0m\u001b[0;34m(\u001b[0m\u001b[0;34mf'No file or directory found at {filepath_str}'\u001b[0m\u001b[0;34m)\u001b[0m\u001b[0;34m\u001b[0m\u001b[0;34m\u001b[0m\u001b[0m\n\u001b[0m\u001b[1;32m    205\u001b[0m \u001b[0;34m\u001b[0m\u001b[0m\n\u001b[1;32m    206\u001b[0m           \u001b[0;32mif\u001b[0m \u001b[0mtf\u001b[0m\u001b[0;34m.\u001b[0m\u001b[0mio\u001b[0m\u001b[0;34m.\u001b[0m\u001b[0mgfile\u001b[0m\u001b[0;34m.\u001b[0m\u001b[0misdir\u001b[0m\u001b[0;34m(\u001b[0m\u001b[0mfilepath_str\u001b[0m\u001b[0;34m)\u001b[0m\u001b[0;34m:\u001b[0m\u001b[0;34m\u001b[0m\u001b[0;34m\u001b[0m\u001b[0m\n",
            "\u001b[0;31mOSError\u001b[0m: No file or directory found at model_saved.h5"
          ]
        }
      ]
    },
    {
      "cell_type": "code",
      "source": [
        "test_genrator= traindata.flow_from_directory('/content/drive/MyDrive/Mdvdata/test',\n",
        "                                             target_size=(image_size,image_size),\n",
        "                                             shuffle=False\n",
        "                                             )\n",
        "step_per_epoch_vaild=len(testdata)\n"
      ],
      "metadata": {
        "id": "CxVeG0US0YJo"
      },
      "execution_count": null,
      "outputs": []
    },
    {
      "cell_type": "code",
      "source": [
        "test_score=vgg16_saved.evaluate_generator(test_genrator,step_per_epoch_vaild,verbose=1)\n"
      ],
      "metadata": {
        "id": "RvWDPBMl1u8g"
      },
      "execution_count": null,
      "outputs": []
    }
  ]
}