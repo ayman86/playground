{
  "nbformat": 4,
  "nbformat_minor": 0,
  "metadata": {
    "colab": {
      "name": "m_oraganal_data.ipynb",
      "provenance": [],
      "collapsed_sections": [],
      "mount_file_id": "1zhP5VDaRPyXXfokUl_kYqeE8SRSHHUn6",
      "authorship_tag": "ABX9TyOsutSFhNJRJMhzkPyQfHjK",
      "include_colab_link": true
    },
    "kernelspec": {
      "name": "python3",
      "display_name": "Python 3"
    },
    "language_info": {
      "name": "python"
    },
    "accelerator": "GPU"
  },
  "cells": [
    {
      "cell_type": "markdown",
      "metadata": {
        "id": "view-in-github",
        "colab_type": "text"
      },
      "source": [
        "<a href=\"https://colab.research.google.com/github/ayman86/playground/blob/master/m_oraganal_data.ipynb\" target=\"_parent\"><img src=\"https://colab.research.google.com/assets/colab-badge.svg\" alt=\"Open In Colab\"/></a>"
      ]
    },
    {
      "cell_type": "code",
      "source": [
        "#!wget https://figshare.com/ndownloader/files/3381290\n",
        "#!unzip 3381290\n"
      ],
      "metadata": {
        "id": "u68n8xgTZynS"
      },
      "execution_count": 74,
      "outputs": []
    },
    {
      "cell_type": "code",
      "source": [
        "import keras\n",
        "from keras.preprocessing.image import ImageDataGenerator\n",
        "from keras.models import Sequential\n",
        "from keras.layers import Dense\n",
        "from keras.applications.vgg16 import VGG16\n",
        "from keras.applications.vgg16 import preprocess_input\n",
        "from keras.utils.traceback_utils import include_frame\n"
      ],
      "metadata": {
        "id": "l9HxHrUPkw0P"
      },
      "execution_count": 75,
      "outputs": []
    },
    {
      "cell_type": "code",
      "source": [
        "num_classes=2\n",
        "image_size=224\n"
      ],
      "metadata": {
        "id": "mehYTugHlvOQ"
      },
      "execution_count": 76,
      "outputs": []
    },
    {
      "cell_type": "code",
      "source": [
        "data_genarater=ImageDataGenerator(preprocessing_function=preprocess_input)"
      ],
      "metadata": {
        "id": "1Is4ovXymMXr"
      },
      "execution_count": 77,
      "outputs": []
    },
    {
      "cell_type": "code",
      "source": [
        "train  = '/content/drive/MyDrive/Mdvdata/train'\n",
        "test  = '/content/drive/MyDrive/Mdvdata/test'\n",
        "#Therd step resize\n",
        "trdata = ImageDataGenerator(rescale= 1./255,\n",
        "                            shear_range=0.2,\n",
        "                            zoom_range=0.2,\n",
        "                            horizontal_flip= True,\n",
        ")\n",
        "traindata = trdata.flow_from_directory(directory=train,target_size=(image_size,image_size))\n",
        "\n",
        "tsdata = ImageDataGenerator(rescale= 1./255,\n",
        "                            shear_range=0.2,\n",
        "                            zoom_range=0.2,\n",
        "                            horizontal_flip= True,\n",
        ")\n",
        "testdata = tsdata.flow_from_directory(directory=test,target_size=(224,224))\n",
        "\n",
        "input_shape = (224,224,3)"
      ],
      "metadata": {
        "colab": {
          "base_uri": "https://localhost:8080/"
        },
        "id": "jeyh82p8mdW4",
        "outputId": "6ad88898-ecb9-46ce-c0f8-f1f317c05df3"
      },
      "execution_count": 78,
      "outputs": [
        {
          "output_type": "stream",
          "name": "stdout",
          "text": [
            "Found 14282 images belonging to 2 classes.\n",
            "Found 3562 images belonging to 2 classes.\n"
          ]
        }
      ]
    },
    {
      "cell_type": "code",
      "source": [
        "model=Sequential()\n",
        "model.add(VGG16(include_top=False,pooling='avg',weights='imagenet'))\n"
      ],
      "metadata": {
        "id": "rer5Bm-Un6qI"
      },
      "execution_count": 79,
      "outputs": []
    },
    {
      "cell_type": "code",
      "source": [
        "model.add(Dense(num_classes,activation='softmax'))"
      ],
      "metadata": {
        "id": "CLT_bdHPpJU6"
      },
      "execution_count": 80,
      "outputs": []
    },
    {
      "cell_type": "code",
      "source": [
        "model.layers[0].layers"
      ],
      "metadata": {
        "colab": {
          "base_uri": "https://localhost:8080/"
        },
        "id": "3ZrfpiwKpxao",
        "outputId": "a46f78f6-bf9d-4fee-8b21-7afcabacd60d"
      },
      "execution_count": 81,
      "outputs": [
        {
          "output_type": "execute_result",
          "data": {
            "text/plain": [
              "[<keras.engine.input_layer.InputLayer at 0x7f8813fc0590>,\n",
              " <keras.layers.convolutional.Conv2D at 0x7f8813f6e990>,\n",
              " <keras.layers.convolutional.Conv2D at 0x7f8813f6e490>,\n",
              " <keras.layers.pooling.MaxPooling2D at 0x7f88a003ea90>,\n",
              " <keras.layers.convolutional.Conv2D at 0x7f881e1ed350>,\n",
              " <keras.layers.convolutional.Conv2D at 0x7f881e44c490>,\n",
              " <keras.layers.pooling.MaxPooling2D at 0x7f88147aa7d0>,\n",
              " <keras.layers.convolutional.Conv2D at 0x7f8813f4db10>,\n",
              " <keras.layers.convolutional.Conv2D at 0x7f881e21f550>,\n",
              " <keras.layers.convolutional.Conv2D at 0x7f87bc543e50>,\n",
              " <keras.layers.pooling.MaxPooling2D at 0x7f87bc4bc850>,\n",
              " <keras.layers.convolutional.Conv2D at 0x7f88138c8ad0>,\n",
              " <keras.layers.convolutional.Conv2D at 0x7f881e1f7d50>,\n",
              " <keras.layers.convolutional.Conv2D at 0x7f87bc4bffd0>,\n",
              " <keras.layers.pooling.MaxPooling2D at 0x7f87bc4c5ed0>,\n",
              " <keras.layers.convolutional.Conv2D at 0x7f87bc4d83d0>,\n",
              " <keras.layers.convolutional.Conv2D at 0x7f88138c8d50>,\n",
              " <keras.layers.convolutional.Conv2D at 0x7f87bc4d8dd0>,\n",
              " <keras.layers.pooling.MaxPooling2D at 0x7f87bc4e3310>,\n",
              " <keras.layers.pooling.GlobalAveragePooling2D at 0x7f881e397990>]"
            ]
          },
          "metadata": {},
          "execution_count": 81
        }
      ]
    },
    {
      "cell_type": "code",
      "source": [
        "model.layers[0].trainable=False\n",
        "model.compile(optimizer='adam',loss='categorical_crossentropy',metrics=['accuracy'])\n",
        "step_per_epoch_train=len(traindata)\n",
        "step_per_epoch_vaild=len(testdata)\n",
        "num_epoch=10\n"
      ],
      "metadata": {
        "id": "VwCDDlL3p_4o"
      },
      "execution_count": 82,
      "outputs": []
    },
    {
      "cell_type": "code",
      "source": [
        "pach_size_train=64\n",
        "pach_size_valid=64\n",
        "\n",
        "hist = model.fit_generator(traindata,\n",
        "                           steps_per_epoch = pach_size_train,\n",
        "                           epochs = 50,\n",
        "                           validation_data = testdata,\n",
        "                           validation_steps =pach_size_valid\n",
        "                           )"
      ],
      "metadata": {
        "colab": {
          "base_uri": "https://localhost:8080/"
        },
        "id": "CQaP3KhgsnZg",
        "outputId": "815d07cc-88c8-40f2-d9f7-5b5a860d1033"
      },
      "execution_count": 83,
      "outputs": [
        {
          "output_type": "stream",
          "name": "stderr",
          "text": [
            "/usr/local/lib/python3.7/dist-packages/ipykernel_launcher.py:8: UserWarning: `Model.fit_generator` is deprecated and will be removed in a future version. Please use `Model.fit`, which supports generators.\n",
            "  \n"
          ]
        },
        {
          "output_type": "stream",
          "name": "stdout",
          "text": [
            "Epoch 1/50\n",
            "64/64 [==============================] - 62s 955ms/step - loss: 0.6817 - accuracy: 0.5894 - val_loss: 0.6573 - val_accuracy: 0.6592\n",
            "Epoch 2/50\n",
            "64/64 [==============================] - 56s 877ms/step - loss: 0.6462 - accuracy: 0.6777 - val_loss: 0.6322 - val_accuracy: 0.7036\n",
            "Epoch 3/50\n",
            "64/64 [==============================] - 56s 877ms/step - loss: 0.6161 - accuracy: 0.7085 - val_loss: 0.6089 - val_accuracy: 0.7373\n",
            "Epoch 4/50\n",
            "64/64 [==============================] - 57s 902ms/step - loss: 0.5977 - accuracy: 0.7314 - val_loss: 0.5825 - val_accuracy: 0.7373\n",
            "Epoch 5/50\n",
            "64/64 [==============================] - 55s 871ms/step - loss: 0.5859 - accuracy: 0.7226 - val_loss: 0.5663 - val_accuracy: 0.7563\n",
            "Epoch 6/50\n",
            "64/64 [==============================] - 55s 870ms/step - loss: 0.5651 - accuracy: 0.7414 - val_loss: 0.5589 - val_accuracy: 0.7437\n",
            "Epoch 7/50\n",
            "64/64 [==============================] - 57s 893ms/step - loss: 0.5618 - accuracy: 0.7363 - val_loss: 0.5546 - val_accuracy: 0.7246\n",
            "Epoch 8/50\n",
            "64/64 [==============================] - 55s 870ms/step - loss: 0.5579 - accuracy: 0.7364 - val_loss: 0.5423 - val_accuracy: 0.7393\n",
            "Epoch 9/50\n",
            "64/64 [==============================] - 57s 888ms/step - loss: 0.5366 - accuracy: 0.7554 - val_loss: 0.5222 - val_accuracy: 0.7603\n",
            "Epoch 10/50\n",
            "64/64 [==============================] - 57s 890ms/step - loss: 0.5262 - accuracy: 0.7656 - val_loss: 0.5259 - val_accuracy: 0.7515\n",
            "Epoch 11/50\n",
            "64/64 [==============================] - 56s 876ms/step - loss: 0.5400 - accuracy: 0.7427 - val_loss: 0.5250 - val_accuracy: 0.7588\n",
            "Epoch 12/50\n",
            "64/64 [==============================] - 55s 871ms/step - loss: 0.5332 - accuracy: 0.7520 - val_loss: 0.5231 - val_accuracy: 0.7573\n",
            "Epoch 13/50\n",
            "64/64 [==============================] - 57s 891ms/step - loss: 0.5223 - accuracy: 0.7651 - val_loss: 0.5066 - val_accuracy: 0.7686\n",
            "Epoch 14/50\n",
            "64/64 [==============================] - 56s 882ms/step - loss: 0.5127 - accuracy: 0.7676 - val_loss: 0.5093 - val_accuracy: 0.7646\n",
            "Epoch 15/50\n",
            "64/64 [==============================] - 55s 870ms/step - loss: 0.5073 - accuracy: 0.7729 - val_loss: 0.5156 - val_accuracy: 0.7695\n",
            "Epoch 16/50\n",
            "64/64 [==============================] - 56s 887ms/step - loss: 0.5026 - accuracy: 0.7764 - val_loss: 0.5006 - val_accuracy: 0.7876\n",
            "Epoch 17/50\n",
            "64/64 [==============================] - 56s 872ms/step - loss: 0.4970 - accuracy: 0.7788 - val_loss: 0.4964 - val_accuracy: 0.7764\n",
            "Epoch 18/50\n",
            "64/64 [==============================] - 58s 904ms/step - loss: 0.4931 - accuracy: 0.7827 - val_loss: 0.4961 - val_accuracy: 0.7754\n",
            "Epoch 19/50\n",
            "64/64 [==============================] - 56s 874ms/step - loss: 0.4953 - accuracy: 0.7744 - val_loss: 0.4995 - val_accuracy: 0.7710\n",
            "Epoch 20/50\n",
            "64/64 [==============================] - 55s 869ms/step - loss: 0.5038 - accuracy: 0.7660 - val_loss: 0.4889 - val_accuracy: 0.7734\n",
            "Epoch 21/50\n",
            "64/64 [==============================] - 57s 893ms/step - loss: 0.4877 - accuracy: 0.7852 - val_loss: 0.4998 - val_accuracy: 0.7783\n",
            "Epoch 22/50\n",
            "64/64 [==============================] - 56s 883ms/step - loss: 0.4985 - accuracy: 0.7671 - val_loss: 0.4898 - val_accuracy: 0.7812\n",
            "Epoch 23/50\n",
            "64/64 [==============================] - 56s 876ms/step - loss: 0.4840 - accuracy: 0.7964 - val_loss: 0.4883 - val_accuracy: 0.7725\n",
            "Epoch 24/50\n",
            "64/64 [==============================] - 56s 876ms/step - loss: 0.4992 - accuracy: 0.7739 - val_loss: 0.4791 - val_accuracy: 0.7793\n",
            "Epoch 25/50\n",
            "64/64 [==============================] - 57s 896ms/step - loss: 0.4775 - accuracy: 0.7842 - val_loss: 0.4832 - val_accuracy: 0.7773\n",
            "Epoch 26/50\n",
            "64/64 [==============================] - 56s 877ms/step - loss: 0.4867 - accuracy: 0.7808 - val_loss: 0.4890 - val_accuracy: 0.7710\n",
            "Epoch 27/50\n",
            "64/64 [==============================] - 56s 879ms/step - loss: 0.4769 - accuracy: 0.7905 - val_loss: 0.4702 - val_accuracy: 0.7998\n",
            "Epoch 28/50\n",
            "64/64 [==============================] - 56s 884ms/step - loss: 0.4650 - accuracy: 0.7871 - val_loss: 0.4749 - val_accuracy: 0.7832\n",
            "Epoch 29/50\n",
            "64/64 [==============================] - 56s 877ms/step - loss: 0.4777 - accuracy: 0.7896 - val_loss: 0.4794 - val_accuracy: 0.7739\n",
            "Epoch 30/50\n",
            "64/64 [==============================] - 56s 873ms/step - loss: 0.4770 - accuracy: 0.7710 - val_loss: 0.4718 - val_accuracy: 0.7896\n",
            "Epoch 31/50\n",
            "64/64 [==============================] - 57s 897ms/step - loss: 0.4674 - accuracy: 0.7881 - val_loss: 0.4752 - val_accuracy: 0.7900\n",
            "Epoch 32/50\n",
            "64/64 [==============================] - 56s 876ms/step - loss: 0.4728 - accuracy: 0.7866 - val_loss: 0.4738 - val_accuracy: 0.7925\n",
            "Epoch 33/50\n",
            "64/64 [==============================] - 55s 871ms/step - loss: 0.4637 - accuracy: 0.7842 - val_loss: 0.4669 - val_accuracy: 0.7876\n",
            "Epoch 34/50\n",
            "64/64 [==============================] - 57s 895ms/step - loss: 0.4670 - accuracy: 0.7920 - val_loss: 0.4679 - val_accuracy: 0.7871\n",
            "Epoch 35/50\n",
            "64/64 [==============================] - 57s 888ms/step - loss: 0.4636 - accuracy: 0.7930 - val_loss: 0.4662 - val_accuracy: 0.7954\n",
            "Epoch 36/50\n",
            "64/64 [==============================] - 55s 872ms/step - loss: 0.4638 - accuracy: 0.7900 - val_loss: 0.4572 - val_accuracy: 0.7944\n",
            "Epoch 37/50\n",
            "64/64 [==============================] - 56s 885ms/step - loss: 0.4709 - accuracy: 0.7789 - val_loss: 0.4685 - val_accuracy: 0.7842\n",
            "Epoch 38/50\n",
            "64/64 [==============================] - 55s 870ms/step - loss: 0.4876 - accuracy: 0.7842 - val_loss: 0.4633 - val_accuracy: 0.7847\n",
            "Epoch 39/50\n",
            "64/64 [==============================] - 55s 869ms/step - loss: 0.4799 - accuracy: 0.7744 - val_loss: 0.4650 - val_accuracy: 0.7944\n",
            "Epoch 40/50\n",
            "64/64 [==============================] - 57s 898ms/step - loss: 0.4694 - accuracy: 0.7907 - val_loss: 0.4649 - val_accuracy: 0.7925\n",
            "Epoch 41/50\n",
            "64/64 [==============================] - 56s 874ms/step - loss: 0.4668 - accuracy: 0.7891 - val_loss: 0.4624 - val_accuracy: 0.7886\n",
            "Epoch 42/50\n",
            "64/64 [==============================] - 56s 874ms/step - loss: 0.4623 - accuracy: 0.7910 - val_loss: 0.4478 - val_accuracy: 0.8037\n",
            "Epoch 43/50\n",
            "64/64 [==============================] - 57s 894ms/step - loss: 0.4830 - accuracy: 0.7725 - val_loss: 0.4686 - val_accuracy: 0.7876\n",
            "Epoch 44/50\n",
            "64/64 [==============================] - 56s 882ms/step - loss: 0.4660 - accuracy: 0.7856 - val_loss: 0.4634 - val_accuracy: 0.7852\n",
            "Epoch 45/50\n",
            "64/64 [==============================] - 56s 878ms/step - loss: 0.4627 - accuracy: 0.7920 - val_loss: 0.4510 - val_accuracy: 0.7988\n",
            "Epoch 46/50\n",
            "64/64 [==============================] - 57s 898ms/step - loss: 0.4601 - accuracy: 0.7871 - val_loss: 0.4541 - val_accuracy: 0.8047\n",
            "Epoch 47/50\n",
            "64/64 [==============================] - 56s 876ms/step - loss: 0.4584 - accuracy: 0.7988 - val_loss: 0.4554 - val_accuracy: 0.7896\n",
            "Epoch 48/50\n",
            "64/64 [==============================] - 56s 878ms/step - loss: 0.4542 - accuracy: 0.7998 - val_loss: 0.4653 - val_accuracy: 0.7930\n",
            "Epoch 49/50\n",
            "64/64 [==============================] - 57s 896ms/step - loss: 0.4587 - accuracy: 0.7935 - val_loss: 0.4566 - val_accuracy: 0.7930\n",
            "Epoch 50/50\n",
            "64/64 [==============================] - 58s 919ms/step - loss: 0.4610 - accuracy: 0.7964 - val_loss: 0.4545 - val_accuracy: 0.8013\n"
          ]
        }
      ]
    },
    {
      "cell_type": "code",
      "source": [
        "model.save('/content/drive/MyDrive/Mdvdata/model_saved.h5')\n"
      ],
      "metadata": {
        "id": "myEJemdIu9kr"
      },
      "execution_count": 97,
      "outputs": []
    },
    {
      "cell_type": "code",
      "source": [
        "model.save_spec('/content/drive/MyDrive/Mdvdata/model_saved_1.h5')"
      ],
      "metadata": {
        "colab": {
          "base_uri": "https://localhost:8080/"
        },
        "id": "LGFoWivVvTg6",
        "outputId": "77f73f27-176d-41db-c01a-ba157499e638"
      },
      "execution_count": 85,
      "outputs": [
        {
          "output_type": "execute_result",
          "data": {
            "text/plain": [
              "([TensorSpec(shape=(None, None, None, 3), dtype=tf.float32, name='vgg16_input')],\n",
              " {})"
            ]
          },
          "metadata": {},
          "execution_count": 85
        }
      ]
    },
    {
      "cell_type": "code",
      "source": [
        "model.save_weights('/content/drive/MyDrive/Mdvdata/model_saved_2.h5')"
      ],
      "metadata": {
        "id": "pGOOt4QTvUn7"
      },
      "execution_count": 86,
      "outputs": []
    },
    {
      "cell_type": "code",
      "source": [
        "from keras.models import load_model\n",
        "model = load_model('/content/drive/MyDrive/Mdvdata/model_saved.h5')"
      ],
      "metadata": {
        "id": "fjVtGoVGL9KB"
      },
      "execution_count": 87,
      "outputs": []
    },
    {
      "cell_type": "code",
      "source": [
        "traindata = trdata.flow_from_directory(directory=train,target_size=(image_size,image_size),shuffle=False)\n"
      ],
      "metadata": {
        "colab": {
          "base_uri": "https://localhost:8080/"
        },
        "id": "XU4iM4xzZkcw",
        "outputId": "b57c4db3-91fd-4c9a-f83a-16c70d90b56a"
      },
      "execution_count": 88,
      "outputs": [
        {
          "output_type": "stream",
          "name": "stdout",
          "text": [
            "Found 14282 images belonging to 2 classes.\n"
          ]
        }
      ]
    },
    {
      "cell_type": "code",
      "source": [
        "test_score=model.evaluate(testdata)\n"
      ],
      "metadata": {
        "colab": {
          "base_uri": "https://localhost:8080/"
        },
        "id": "YwtAh8MCbR74",
        "outputId": "91086a4f-a539-4551-d722-62393a9be6fc"
      },
      "execution_count": 89,
      "outputs": [
        {
          "output_type": "stream",
          "name": "stdout",
          "text": [
            "112/112 [==============================] - 54s 472ms/step - loss: 0.4535 - accuracy: 0.7965\n"
          ]
        }
      ]
    },
    {
      "cell_type": "code",
      "source": [
        "import matplotlib.pyplot as plt\n"
      ],
      "metadata": {
        "id": "39g4WxdHcOux"
      },
      "execution_count": 90,
      "outputs": []
    },
    {
      "cell_type": "code",
      "source": [
        "#plot\n",
        "plt.plot(hist.history['loss'], label = 'train')\n",
        "plt.plot(hist.history['val_loss'], label = 'val')\n",
        "plt.title('cnn_model_val')\n",
        "plt.legend()\n",
        "plt.show()"
      ],
      "metadata": {
        "colab": {
          "base_uri": "https://localhost:8080/",
          "height": 281
        },
        "id": "GeHTTkIVbm6p",
        "outputId": "877a9c8a-2f87-42c6-8b71-a19ab19e1aab"
      },
      "execution_count": 91,
      "outputs": [
        {
          "output_type": "display_data",
          "data": {
            "text/plain": [
              "<Figure size 432x288 with 1 Axes>"
            ],
            "image/png": "[encoded data removed]"
          },
          "metadata": {
            "needs_background": "light"
          }
        }
      ]
    },
    {
      "cell_type": "code",
      "source": [
        "plt.plot(hist.history['accuracy'], label = 'train')\n",
        "plt.plot(hist.history['val_accuracy'], label = 'val')\n",
        "plt.title('cnn_model_acc')\n",
        "plt.legend()\n",
        "plt.show()"
      ],
      "metadata": {
        "colab": {
          "base_uri": "https://localhost:8080/",
          "height": 281
        },
        "id": "EMpoEhzdbpYa",
        "outputId": "31369dea-ec54-420f-eaf7-7c0e286d3883"
      },
      "execution_count": 92,
      "outputs": [
        {
          "output_type": "display_data",
          "data": {
            "text/plain": [
              "<Figure size 432x288 with 1 Axes>"
            ],
            "image/png": "[encoded data removed]"
          },
          "metadata": {
            "needs_background": "light"
          }
        }
      ]
    },
    {
      "cell_type": "code",
      "source": [
        "#confusion matrix\n",
        "import numpy as np\n",
        "target = ['Melanoma','NotMelanoma']\n",
        "label = [0,1]\n",
        "\n",
        "Y_pred = model.predict_generator(testdata)\n",
        "y_pred = np.argmax(Y_pred,axis=1)\n"
      ],
      "metadata": {
        "colab": {
          "base_uri": "https://localhost:8080/"
        },
        "id": "JTxb9pRwbr8h",
        "outputId": "ff539fc1-7c1f-4af9-c3d3-03a45f243391"
      },
      "execution_count": 93,
      "outputs": [
        {
          "output_type": "stream",
          "name": "stderr",
          "text": [
            "/usr/local/lib/python3.7/dist-packages/ipykernel_launcher.py:6: UserWarning: `Model.predict_generator` is deprecated and will be removed in a future version. Please use `Model.predict`, which supports generators.\n",
            "  \n"
          ]
        }
      ]
    },
    {
      "cell_type": "code",
      "source": [
        "from sklearn.metrics import classification_report,confusion_matrix,plot_confusion_matrix,ConfusionMatrixDisplay"
      ],
      "metadata": {
        "id": "7uSaxXcCbuOA"
      },
      "execution_count": 94,
      "outputs": []
    },
    {
      "cell_type": "code",
      "source": [
        "cm = confusion_matrix(testdata.classes,y_pred,labels=label)\n",
        "\n",
        "print ('confusmatris')\n",
        "print (confusion_matrix(testdata.classes,y_pred))\n",
        "\n",
        "print ('classification_report')\n",
        "print (classification_report(testdata.classes,y_pred, target_names = target))\n",
        "\n",
        "disp = ConfusionMatrixDisplay(confusion_matrix=cm,display_labels=target)\n",
        "#disp = disp.plot(cmap = plt.cm.Blues,values_format='g')\n",
        "disp = disp.plot(cmap = plt.cm.Blues,values_format='g')\n",
        "\n",
        "plt.show()"
      ],
      "metadata": {
        "colab": {
          "base_uri": "https://localhost:8080/",
          "height": 509
        },
        "id": "UIdG3PnEbxIi",
        "outputId": "f8b80886-7bee-4bdb-fbc2-98c87bac3635"
      },
      "execution_count": 95,
      "outputs": [
        {
          "output_type": "stream",
          "name": "stdout",
          "text": [
            "confusmatris\n",
            "[[940 841]\n",
            " [882 899]]\n",
            "classification_report\n",
            "              precision    recall  f1-score   support\n",
            "\n",
            "    Melanoma       0.52      0.53      0.52      1781\n",
            " NotMelanoma       0.52      0.50      0.51      1781\n",
            "\n",
            "    accuracy                           0.52      3562\n",
            "   macro avg       0.52      0.52      0.52      3562\n",
            "weighted avg       0.52      0.52      0.52      3562\n",
            "\n"
          ]
        },
        {
          "output_type": "display_data",
          "data": {
            "text/plain": [
              "<Figure size 432x288 with 2 Axes>"
            ],
            "image/png": "[encoded data removed]"
          },
          "metadata": {
            "needs_background": "light"
          }
        }
      ]
    },
    {
      "cell_type": "code",
      "source": [
        "acc = hist.history['accuracy']\n",
        "val_acc = hist.history['val_accuracy']\n",
        "loss = hist.history['loss']\n",
        "val_loss = hist.history['val_loss']\n",
        "\n",
        "epochs = range(1, len(acc) + 1)\n",
        "\n",
        "plt.plot(epochs, acc, 'bo', label='Training acc')\n",
        "plt.plot(epochs, val_acc, 'b', label='Validation acc')\n",
        "plt.title('Training and validation accuracy')\n",
        "plt.legend()\n",
        "\n",
        "plt.figure()\n",
        "\n",
        "plt.plot(epochs, loss, 'bo', label='Training loss')\n",
        "plt.plot(epochs, val_loss, 'b', label='Validation loss')\n",
        "plt.title('Training and validation loss')\n",
        "plt.legend()\n",
        "\n",
        "plt.show()"
      ],
      "metadata": {
        "colab": {
          "base_uri": "https://localhost:8080/",
          "height": 545
        },
        "id": "F-u78XPVc3Uf",
        "outputId": "a084c1b9-5ce9-4b77-bac5-34e25d574ead"
      },
      "execution_count": 96,
      "outputs": [
        {
          "output_type": "display_data",
          "data": {
            "text/plain": [
              "<Figure size 432x288 with 1 Axes>"
            ],
            "image/png": "[encoded data removed]"
          },
          "metadata": {
            "needs_background": "light"
          }
        },
        {
          "output_type": "display_data",
          "data": {
            "text/plain": [
              "<Figure size 432x288 with 1 Axes>"
            ],
            "image/png": "[encoded data removed]"
          },
          "metadata": {
            "needs_background": "light"
          }
        }
      ]
    }
  ]
}