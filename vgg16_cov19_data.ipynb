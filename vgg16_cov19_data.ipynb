{
  "nbformat": 4,
  "nbformat_minor": 0,
  "metadata": {
    "colab": {
      "name": "m_oraganal_data.ipynb",
      "provenance": [],
      "collapsed_sections": [],
      "mount_file_id": "https://github.com/ayman86/playground/blob/master/m_oraganal_data.ipynb",
      "authorship_tag": "ABX9TyMlgFUlE8tPIwjwCKtzsTwz",
      "include_colab_link": true
    },
    "kernelspec": {
      "name": "python3",
      "display_name": "Python 3"
    },
    "language_info": {
      "name": "python"
    },
    "accelerator": "GPU"
  },
  "cells": [
    {
      "cell_type": "markdown",
      "metadata": {
        "id": "view-in-github",
        "colab_type": "text"
      },
      "source": [
        "<a href=\"https://colab.research.google.com/github/ayman86/playground/blob/master/vgg16_cov19_data.ipynb\" target=\"_parent\"><img src=\"https://colab.research.google.com/assets/colab-badge.svg\" alt=\"Open In Colab\"/></a>"
      ]
    },
    {
      "cell_type": "code",
      "source": [
        "#!wget https://figshare.com/ndownloader/files/3381290\n",
        "#!unzip 3381290\n"
      ],
      "metadata": {
        "id": "u68n8xgTZynS"
      },
      "execution_count": null,
      "outputs": []
    },
    {
      "cell_type": "code",
      "source": [
        "import keras\n",
        "from keras.preprocessing.image import ImageDataGenerator\n",
        "from keras.models import Sequential\n",
        "from keras.layers import Dense\n",
        "from keras.applications.vgg16 import VGG16\n",
        "from keras.applications.vgg16 import preprocess_input\n",
        "from keras.utils.traceback_utils import include_frame\n"
      ],
      "metadata": {
        "id": "l9HxHrUPkw0P"
      },
      "execution_count": 1,
      "outputs": []
    },
    {
      "cell_type": "code",
      "source": [
        "num_classes=3\n",
        "image_size=227\n"
      ],
      "metadata": {
        "id": "mehYTugHlvOQ"
      },
      "execution_count": 3,
      "outputs": []
    },
    {
      "cell_type": "code",
      "source": [
        "data_genarater=ImageDataGenerator(preprocessing_function=preprocess_input)"
      ],
      "metadata": {
        "id": "1Is4ovXymMXr"
      },
      "execution_count": 4,
      "outputs": []
    },
    {
      "cell_type": "code",
      "source": [
        "train  = '/content/drive/MyDrive/ddvdata/train'\n",
        "test  = '/content/drive/MyDrive/ddvdata/test'\n",
        "#Therd step resize\n",
        "trdata = ImageDataGenerator(rescale= 1./255,\n",
        "                            shear_range=0.2,\n",
        "                            zoom_range=0.2,\n",
        "                            horizontal_flip= True,\n",
        ")\n",
        "traindata = trdata.flow_from_directory(directory=train,target_size=(image_size,image_size))\n",
        "\n",
        "tsdata = ImageDataGenerator(rescale= 1./255,\n",
        "                            shear_range=0.2,\n",
        "                            zoom_range=0.2,\n",
        "                            horizontal_flip= True,\n",
        ")\n",
        "testdata = tsdata.flow_from_directory(directory=test,target_size=(224,224))\n",
        "\n",
        "input_shape = (227,227,3)"
      ],
      "metadata": {
        "colab": {
          "base_uri": "https://localhost:8080/"
        },
        "id": "jeyh82p8mdW4",
        "outputId": "f5f3ba29-8b65-461f-be68-e8a63e2ae64d"
      },
      "execution_count": 6,
      "outputs": [
        {
          "output_type": "stream",
          "name": "stdout",
          "text": [
            "Found 10759 images belonging to 3 classes.\n",
            "Found 2688 images belonging to 3 classes.\n"
          ]
        }
      ]
    },
    {
      "cell_type": "code",
      "source": [
        "model=Sequential()\n",
        "model.add(VGG16(include_top=False,pooling='avg',weights='imagenet'))\n"
      ],
      "metadata": {
        "id": "rer5Bm-Un6qI",
        "outputId": "84d0f18f-6b3a-4ce5-9a62-734473ba7387",
        "colab": {
          "base_uri": "https://localhost:8080/"
        }
      },
      "execution_count": 7,
      "outputs": [
        {
          "output_type": "stream",
          "name": "stdout",
          "text": [
            "Downloading data from https://storage.googleapis.com/tensorflow/keras-applications/vgg16/vgg16_weights_tf_dim_ordering_tf_kernels_notop.h5\n",
            "58892288/58889256 [==============================] - 1s 0us/step\n",
            "58900480/58889256 [==============================] - 1s 0us/step\n"
          ]
        }
      ]
    },
    {
      "cell_type": "code",
      "source": [
        "model.add(Dense(num_classes,activation='softmax'))"
      ],
      "metadata": {
        "id": "CLT_bdHPpJU6"
      },
      "execution_count": 8,
      "outputs": []
    },
    {
      "cell_type": "code",
      "source": [
        "model.layers[0].layers"
      ],
      "metadata": {
        "colab": {
          "base_uri": "https://localhost:8080/"
        },
        "id": "3ZrfpiwKpxao",
        "outputId": "e59e6711-f3e3-4cea-cac2-5284063a3ac3"
      },
      "execution_count": 9,
      "outputs": [
        {
          "output_type": "execute_result",
          "data": {
            "text/plain": [
              "[<keras.engine.input_layer.InputLayer at 0x7f1d51a6ce50>,\n",
              " <keras.layers.convolutional.Conv2D at 0x7f1d54c99cd0>,\n",
              " <keras.layers.convolutional.Conv2D at 0x7f1d51112a50>,\n",
              " <keras.layers.pooling.MaxPooling2D at 0x7f1d50c059d0>,\n",
              " <keras.layers.convolutional.Conv2D at 0x7f1d50b99c50>,\n",
              " <keras.layers.convolutional.Conv2D at 0x7f1d50b96cd0>,\n",
              " <keras.layers.pooling.MaxPooling2D at 0x7f1d50ba19d0>,\n",
              " <keras.layers.convolutional.Conv2D at 0x7f1d50ba5150>,\n",
              " <keras.layers.convolutional.Conv2D at 0x7f1d50ba9090>,\n",
              " <keras.layers.convolutional.Conv2D at 0x7f1d50b9b2d0>,\n",
              " <keras.layers.pooling.MaxPooling2D at 0x7f1d50baef10>,\n",
              " <keras.layers.convolutional.Conv2D at 0x7f1d50bb3810>,\n",
              " <keras.layers.convolutional.Conv2D at 0x7f1d50bb2290>,\n",
              " <keras.layers.convolutional.Conv2D at 0x7f1d5b201910>,\n",
              " <keras.layers.pooling.MaxPooling2D at 0x7f1d50bd84d0>,\n",
              " <keras.layers.convolutional.Conv2D at 0x7f1d50bbf690>,\n",
              " <keras.layers.convolutional.Conv2D at 0x7f1d50baee50>,\n",
              " <keras.layers.convolutional.Conv2D at 0x7f1d50bd1250>,\n",
              " <keras.layers.pooling.MaxPooling2D at 0x7f1d50b56fd0>,\n",
              " <keras.layers.pooling.GlobalAveragePooling2D at 0x7f1d50bcc4d0>]"
            ]
          },
          "metadata": {},
          "execution_count": 9
        }
      ]
    },
    {
      "cell_type": "code",
      "source": [
        "model.layers[0].trainable=False\n",
        "model.compile(optimizer='adam',loss='categorical_crossentropy',metrics=['accuracy'])\n",
        "step_per_epoch_train=len(traindata)\n",
        "step_per_epoch_vaild=len(testdata)\n",
        "num_epoch=10\n"
      ],
      "metadata": {
        "id": "VwCDDlL3p_4o"
      },
      "execution_count": 10,
      "outputs": []
    },
    {
      "cell_type": "code",
      "source": [
        "pach_size_train=64\n",
        "pach_size_valid=64\n",
        "\n",
        "hist = model.fit_generator(traindata,\n",
        "                           steps_per_epoch = pach_size_train,\n",
        "                           epochs = 10,\n",
        "                           validation_data = testdata,\n",
        "                           validation_steps =pach_size_valid\n",
        "                           )"
      ],
      "metadata": {
        "colab": {
          "base_uri": "https://localhost:8080/"
        },
        "id": "CQaP3KhgsnZg",
        "outputId": "6555bfef-be92-4833-ca49-73aa7ff27f46"
      },
      "execution_count": 11,
      "outputs": [
        {
          "output_type": "stream",
          "name": "stderr",
          "text": [
            "/usr/local/lib/python3.7/dist-packages/ipykernel_launcher.py:8: UserWarning: `Model.fit_generator` is deprecated and will be removed in a future version. Please use `Model.fit`, which supports generators.\n",
            "  \n"
          ]
        },
        {
          "output_type": "stream",
          "name": "stdout",
          "text": [
            "Epoch 1/10\n",
            "64/64 [==============================] - 3671s 58s/step - loss: 1.0114 - accuracy: 0.5747 - val_loss: 0.9309 - val_accuracy: 0.6509\n",
            "Epoch 2/10\n",
            "64/64 [==============================] - 1917s 30s/step - loss: 0.8471 - accuracy: 0.7676 - val_loss: 0.7850 - val_accuracy: 0.8003\n",
            "Epoch 3/10\n",
            "64/64 [==============================] - 1287s 20s/step - loss: 0.7305 - accuracy: 0.8169 - val_loss: 0.7049 - val_accuracy: 0.7964\n",
            "Epoch 4/10\n",
            "64/64 [==============================] - 1010s 16s/step - loss: 0.6608 - accuracy: 0.8145 - val_loss: 0.6386 - val_accuracy: 0.8140\n",
            "Epoch 5/10\n",
            "64/64 [==============================] - 816s 13s/step - loss: 0.6015 - accuracy: 0.8245 - val_loss: 0.5899 - val_accuracy: 0.8174\n",
            "Epoch 6/10\n",
            "64/64 [==============================] - 654s 10s/step - loss: 0.5592 - accuracy: 0.8403 - val_loss: 0.5588 - val_accuracy: 0.8232\n",
            "Epoch 7/10\n",
            "64/64 [==============================] - 558s 9s/step - loss: 0.5189 - accuracy: 0.8502 - val_loss: 0.5410 - val_accuracy: 0.8301\n",
            "Epoch 8/10\n",
            "64/64 [==============================] - 439s 7s/step - loss: 0.5131 - accuracy: 0.8413 - val_loss: 0.5136 - val_accuracy: 0.8345\n",
            "Epoch 9/10\n",
            "64/64 [==============================] - 365s 6s/step - loss: 0.4928 - accuracy: 0.8467 - val_loss: 0.4792 - val_accuracy: 0.8481\n",
            "Epoch 10/10\n",
            "64/64 [==============================] - 312s 5s/step - loss: 0.4576 - accuracy: 0.8467 - val_loss: 0.4769 - val_accuracy: 0.8394\n"
          ]
        }
      ]
    },
    {
      "cell_type": "code",
      "source": [
        "model.save('/content/drive/MyDrive/ddvdata/model_saved.h5')\n"
      ],
      "metadata": {
        "id": "myEJemdIu9kr"
      },
      "execution_count": 12,
      "outputs": []
    },
    {
      "cell_type": "code",
      "source": [
        "model.save_spec('/content/drive/MyDrive/ddvdata/model_saved_1.h5')"
      ],
      "metadata": {
        "colab": {
          "base_uri": "https://localhost:8080/"
        },
        "id": "LGFoWivVvTg6",
        "outputId": "3fbd1c42-2874-4b32-d173-bfddd80bd44e"
      },
      "execution_count": 13,
      "outputs": [
        {
          "output_type": "execute_result",
          "data": {
            "text/plain": [
              "([TensorSpec(shape=(None, None, None, 3), dtype=tf.float32, name='vgg16_input')],\n",
              " {})"
            ]
          },
          "metadata": {},
          "execution_count": 13
        }
      ]
    },
    {
      "cell_type": "code",
      "source": [
        "model.save_weights('/content/drive/MyDrive/ddvdata/model_saved_2.h5')"
      ],
      "metadata": {
        "id": "pGOOt4QTvUn7"
      },
      "execution_count": 14,
      "outputs": []
    },
    {
      "cell_type": "code",
      "source": [
        "from keras.models import load_model\n",
        "model = load_model('/content/drive/MyDrive/ddvdata/model_saved.h5')"
      ],
      "metadata": {
        "id": "fjVtGoVGL9KB"
      },
      "execution_count": null,
      "outputs": []
    },
    {
      "cell_type": "code",
      "source": [
        "traindata = trdata.flow_from_directory(directory=train,target_size=(image_size,image_size),shuffle=False)\n"
      ],
      "metadata": {
        "colab": {
          "base_uri": "https://localhost:8080/"
        },
        "id": "XU4iM4xzZkcw",
        "outputId": "7709da98-28c1-45b4-8175-f733140a98e2"
      },
      "execution_count": 15,
      "outputs": [
        {
          "output_type": "stream",
          "name": "stdout",
          "text": [
            "Found 10759 images belonging to 3 classes.\n"
          ]
        }
      ]
    },
    {
      "cell_type": "code",
      "source": [
        "test_score=model.evaluate(testdata)\n"
      ],
      "metadata": {
        "colab": {
          "base_uri": "https://localhost:8080/"
        },
        "id": "YwtAh8MCbR74",
        "outputId": "fadd0d65-9731-4f25-de1f-f652a85caa3c"
      },
      "execution_count": 16,
      "outputs": [
        {
          "output_type": "stream",
          "name": "stdout",
          "text": [
            "84/84 [==============================] - 38s 456ms/step - loss: 0.4675 - accuracy: 0.8464\n"
          ]
        }
      ]
    },
    {
      "cell_type": "code",
      "source": [
        "import matplotlib.pyplot as plt\n"
      ],
      "metadata": {
        "id": "39g4WxdHcOux"
      },
      "execution_count": 17,
      "outputs": []
    },
    {
      "cell_type": "code",
      "source": [
        "#plot\n",
        "plt.plot(hist.history['loss'], label = 'train')\n",
        "plt.plot(hist.history['val_loss'], label = 'val')\n",
        "plt.title('cnn_model_val')\n",
        "plt.legend()\n",
        "plt.show()"
      ],
      "metadata": {
        "colab": {
          "base_uri": "https://localhost:8080/",
          "height": 281
        },
        "id": "GeHTTkIVbm6p",
        "outputId": "e2525d1f-b2e5-4aba-9980-c9ac139e7d69"
      },
      "execution_count": 18,
      "outputs": [
        {
          "output_type": "display_data",
          "data": {
            "text/plain": [
              "<Figure size 432x288 with 1 Axes>"
            ],
            "image/png": "[encoded data removed]"
          },
          "metadata": {
            "needs_background": "light"
          }
        }
      ]
    },
    {
      "cell_type": "code",
      "source": [
        "plt.plot(hist.history['accuracy'], label = 'train')\n",
        "plt.plot(hist.history['val_accuracy'], label = 'val')\n",
        "plt.title('cnn_model_acc')\n",
        "plt.legend()\n",
        "plt.show()"
      ],
      "metadata": {
        "colab": {
          "base_uri": "https://localhost:8080/",
          "height": 281
        },
        "id": "EMpoEhzdbpYa",
        "outputId": "d59c8fe9-967b-4493-eb2a-a973cbacf1ec"
      },
      "execution_count": 19,
      "outputs": [
        {
          "output_type": "display_data",
          "data": {
            "text/plain": [
              "<Figure size 432x288 with 1 Axes>"
            ],
            "image/png": "[encoded data removed]"
          },
          "metadata": {
            "needs_background": "light"
          }
        }
      ]
    },
    {
      "cell_type": "code",
      "source": [
        "#confusion matrix\n",
        "import numpy as np\n",
        "target = ['cov19','pen','normal']\n",
        "label = [0,1,2]\n",
        "\n",
        "Y_pred = model.predict_generator(testdata)\n",
        "y_pred = np.argmax(Y_pred,axis=1)\n"
      ],
      "metadata": {
        "colab": {
          "base_uri": "https://localhost:8080/"
        },
        "id": "JTxb9pRwbr8h",
        "outputId": "45a4feca-3ef0-4de4-dcbe-49fe5c316bae"
      },
      "execution_count": 21,
      "outputs": [
        {
          "output_type": "stream",
          "name": "stderr",
          "text": [
            "/usr/local/lib/python3.7/dist-packages/ipykernel_launcher.py:6: UserWarning: `Model.predict_generator` is deprecated and will be removed in a future version. Please use `Model.predict`, which supports generators.\n",
            "  \n"
          ]
        }
      ]
    },
    {
      "cell_type": "code",
      "source": [
        "from sklearn.metrics import classification_report,confusion_matrix,plot_confusion_matrix,ConfusionMatrixDisplay"
      ],
      "metadata": {
        "id": "7uSaxXcCbuOA"
      },
      "execution_count": 22,
      "outputs": []
    },
    {
      "cell_type": "code",
      "source": [
        "cm = confusion_matrix(testdata.classes,y_pred,labels=label)\n",
        "\n",
        "print ('confusmatris')\n",
        "print (confusion_matrix(testdata.classes,y_pred))\n",
        "\n",
        "print ('classification_report')\n",
        "print (classification_report(testdata.classes,y_pred, target_names = target))\n",
        "\n",
        "disp = ConfusionMatrixDisplay(confusion_matrix=cm,display_labels=target)\n",
        "#disp = disp.plot(cmap = plt.cm.Blues,values_format='g')\n",
        "disp = disp.plot(cmap = plt.cm.Blues,values_format='g')\n",
        "\n",
        "plt.show()"
      ],
      "metadata": {
        "colab": {
          "base_uri": "https://localhost:8080/",
          "height": 539
        },
        "id": "UIdG3PnEbxIi",
        "outputId": "117c105a-ef45-4978-f61f-6df3020e7658"
      },
      "execution_count": 23,
      "outputs": [
        {
          "output_type": "stream",
          "name": "stdout",
          "text": [
            "confusmatris\n",
            "[[232 339 325]\n",
            " [236 346 314]\n",
            " [225 371 300]]\n",
            "classification_report\n",
            "              precision    recall  f1-score   support\n",
            "\n",
            "       cov19       0.33      0.26      0.29       896\n",
            "         pen       0.33      0.39      0.35       896\n",
            "      normal       0.32      0.33      0.33       896\n",
            "\n",
            "    accuracy                           0.33      2688\n",
            "   macro avg       0.33      0.33      0.32      2688\n",
            "weighted avg       0.33      0.33      0.32      2688\n",
            "\n"
          ]
        },
        {
          "output_type": "display_data",
          "data": {
            "text/plain": [
              "<Figure size 432x288 with 2 Axes>"
            ],
            "image/png": "[encoded data removed]"
          },
          "metadata": {
            "needs_background": "light"
          }
        }
      ]
    },
    {
      "cell_type": "code",
      "source": [
        "acc = hist.history['accuracy']\n",
        "val_acc = hist.history['val_accuracy']\n",
        "loss = hist.history['loss']\n",
        "val_loss = hist.history['val_loss']\n",
        "\n",
        "epochs = range(1, len(acc) + 1)\n",
        "\n",
        "plt.plot(epochs, acc, 'bo', label='Training acc')\n",
        "plt.plot(epochs, val_acc, 'b', label='Validation acc')\n",
        "plt.title('Training and validation accuracy')\n",
        "plt.legend()\n",
        "\n",
        "plt.figure()\n",
        "\n",
        "plt.plot(epochs, loss, 'bo', label='Training loss')\n",
        "plt.plot(epochs, val_loss, 'b', label='Validation loss')\n",
        "plt.title('Training and validation loss')\n",
        "plt.legend()\n",
        "\n",
        "plt.show()"
      ],
      "metadata": {
        "colab": {
          "base_uri": "https://localhost:8080/",
          "height": 545
        },
        "id": "F-u78XPVc3Uf",
        "outputId": "19455ae6-fbb5-4668-fde4-fc79f6f1b864"
      },
      "execution_count": 24,
      "outputs": [
        {
          "output_type": "display_data",
          "data": {
            "text/plain": [
              "<Figure size 432x288 with 1 Axes>"
            ],
            "image/png": "[encoded data removed]"
          },
          "metadata": {
            "needs_background": "light"
          }
        },
        {
          "output_type": "display_data",
          "data": {
            "text/plain": [
              "<Figure size 432x288 with 1 Axes>"
            ],
            "image/png": "[encoded data removed]"
          },
          "metadata": {
            "needs_background": "light"
          }
        }
      ]
    }
  ]
}